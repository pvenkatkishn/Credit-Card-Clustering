{
  "nbformat": 4,
  "nbformat_minor": 0,
  "metadata": {
    "colab": {
      "provenance": []
    },
    "kernelspec": {
      "display_name": "Python 3",
      "language": "python",
      "name": "python3"
    },
    "language_info": {
      "codemirror_mode": {
        "name": "ipython",
        "version": 3
      },
      "file_extension": ".py",
      "mimetype": "text/x-python",
      "name": "python",
      "nbconvert_exporter": "python",
      "pygments_lexer": "ipython3",
      "version": "3.8.3"
    }
  },
  "cells": [
    {
      "cell_type": "markdown",
      "metadata": {
        "id": "tIOusyeT4_RJ"
      },
      "source": [
        "## Case 6: Credit Card Clustering (Unsupervised Learning)\n",
        "-----------------------------------------\n",
        "\n",
        "We will be using the Credit Card Customer Data for this project.\n",
        "\n",
        "----------------------------\n",
        "## Context:\n",
        "-----------------------------\n",
        "AllLife Bank wants to focus on its credit card customer base in the next financial year. They have been advised by their marketing research team, that the penetration in the market can be improved. Based on this input, the Marketing team proposes to run personalized campaigns to target new customers as well as upsell to existing customers. Another insight from the market research was that the customers hold negative perceptions of support services. Based on this, the Operations team wants to upgrade the service delivery model, to ensure that customers queries are resolved faster. Head of Marketing and Head of Delivery both decide to reach out to the Data Science team for help.\n",
        "\n",
        "\n",
        "----------------------------\n",
        "## Objective:\n",
        "-----------------------------\n",
        "\n",
        "Identify different segments in the existing customer based on their spending patterns as well as past interaction with the bank.\n",
        "\n",
        "--------------------------\n",
        "## About the data:\n",
        "--------------------------\n",
        "Data is of various customers of a bank with their credit limit, the total number of credit cards the customer has, and different channels through which a customer has contacted the bank for any queries, different channels include visiting the bank, online and through a call centre.\n",
        "\n",
        "- Sl_no - Customer Serial Number\n",
        "- Customer Key - Customer identification\n",
        "- Avg_Credit_Limit\t- Average credit limit (currency is not specified, you can make an assumption around this)\n",
        "- Total_Credit_Cards\t- Total number of credit cards\n",
        "- Total_visits_bank\t- Total bank visits\n",
        "- Total_visits_online -\t Total online visits\n",
        "- Total_calls_made - Total calls made"
      ]
    },
    {
      "cell_type": "markdown",
      "metadata": {
        "id": "0ReVFSgtvvO6"
      },
      "source": [
        "## Importing libraries and overview of the dataset"
      ]
    },
    {
      "cell_type": "code",
      "metadata": {
        "id": "KJKn2dkPKnkU",
        "colab": {
          "base_uri": "https://localhost:8080/"
        },
        "outputId": "8bd520f8-e4ab-4c9a-9f44-190c929b7eec"
      },
      "source": [
        "#Import all the necessary packages\n",
        "\n",
        "import pandas as pd\n",
        "import numpy as np\n",
        "\n",
        "import matplotlib.pylab as plt\n",
        "import seaborn as sns\n",
        "\n",
        "#to scale the data using z-score\n",
        "from sklearn.preprocessing import StandardScaler\n",
        "\n",
        "#importing clustering algorithms\n",
        "from sklearn.cluster import KMeans\n",
        "from sklearn.mixture import GaussianMixture\n",
        "\n",
        "\n",
        "#uncomment below to install the sklearn_extra library\n",
        "!pip install scikit-learn-extra\n",
        "from sklearn_extra.cluster import KMedoids\n",
        "\n",
        "import warnings\n",
        "warnings.filterwarnings(\"ignore\")"
      ],
      "execution_count": 3,
      "outputs": [
        {
          "output_type": "stream",
          "name": "stdout",
          "text": [
            "Collecting scikit-learn-extra\n",
            "  Downloading scikit_learn_extra-0.3.0-cp310-cp310-manylinux_2_17_x86_64.manylinux2014_x86_64.whl.metadata (3.6 kB)\n",
            "Requirement already satisfied: numpy>=1.13.3 in /usr/local/lib/python3.10/dist-packages (from scikit-learn-extra) (1.26.4)\n",
            "Requirement already satisfied: scipy>=0.19.1 in /usr/local/lib/python3.10/dist-packages (from scikit-learn-extra) (1.13.1)\n",
            "Requirement already satisfied: scikit-learn>=0.23.0 in /usr/local/lib/python3.10/dist-packages (from scikit-learn-extra) (1.5.2)\n",
            "Requirement already satisfied: joblib>=1.2.0 in /usr/local/lib/python3.10/dist-packages (from scikit-learn>=0.23.0->scikit-learn-extra) (1.4.2)\n",
            "Requirement already satisfied: threadpoolctl>=3.1.0 in /usr/local/lib/python3.10/dist-packages (from scikit-learn>=0.23.0->scikit-learn-extra) (3.5.0)\n",
            "Downloading scikit_learn_extra-0.3.0-cp310-cp310-manylinux_2_17_x86_64.manylinux2014_x86_64.whl (2.0 MB)\n",
            "\u001b[2K   \u001b[90m━━━━━━━━━━━━━━━━━━━━━━━━━━━━━━━━━━━━━━━━\u001b[0m \u001b[32m2.0/2.0 MB\u001b[0m \u001b[31m13.3 MB/s\u001b[0m eta \u001b[36m0:00:00\u001b[0m\n",
            "\u001b[?25hInstalling collected packages: scikit-learn-extra\n",
            "Successfully installed scikit-learn-extra-0.3.0\n"
          ]
        }
      ]
    },
    {
      "cell_type": "markdown",
      "metadata": {
        "id": "9qEgcn2XvvO8"
      },
      "source": [
        "#### Loading data"
      ]
    },
    {
      "cell_type": "code",
      "metadata": {
        "colab": {
          "base_uri": "https://localhost:8080/",
          "height": 206
        },
        "id": "7PMVsuyVxgi-",
        "outputId": "52a19f13-fd17-40cc-fa13-89e0a8313798"
      },
      "source": [
        "import requests\n",
        "from io import StringIO\n",
        "\n",
        "orig_url=\"https://drive.google.com/file/d/1Vr17LIVERV6mCrUauVGyQuz23cfpEts6/view?usp=sharing\"\n",
        "\n",
        "file_id = orig_url.split('/')[-2]\n",
        "dwn_url='https://drive.google.com/uc?export=download&id=' + file_id\n",
        "url = requests.get(dwn_url).text\n",
        "csv_raw = StringIO(url)\n",
        "data = pd.read_csv(csv_raw)\n",
        "data.head()"
      ],
      "execution_count": 4,
      "outputs": [
        {
          "output_type": "execute_result",
          "data": {
            "text/plain": [
              "   Sl_No  Customer Key  Avg_Credit_Limit  Total_Credit_Cards  \\\n",
              "0      1         87073            100000                   2   \n",
              "1      2         38414             50000                   3   \n",
              "2      3         17341             50000                   7   \n",
              "3      4         40496             30000                   5   \n",
              "4      5         47437            100000                   6   \n",
              "\n",
              "   Total_visits_bank  Total_visits_online  Total_calls_made  \n",
              "0                  1                    1                 0  \n",
              "1                  0                   10                 9  \n",
              "2                  1                    3                 4  \n",
              "3                  1                    1                 4  \n",
              "4                  0                   12                 3  "
            ],
            "text/html": [
              "\n",
              "  <div id=\"df-00a4f3c3-7c87-4715-8a29-2448a9a37ba2\" class=\"colab-df-container\">\n",
              "    <div>\n",
              "<style scoped>\n",
              "    .dataframe tbody tr th:only-of-type {\n",
              "        vertical-align: middle;\n",
              "    }\n",
              "\n",
              "    .dataframe tbody tr th {\n",
              "        vertical-align: top;\n",
              "    }\n",
              "\n",
              "    .dataframe thead th {\n",
              "        text-align: right;\n",
              "    }\n",
              "</style>\n",
              "<table border=\"1\" class=\"dataframe\">\n",
              "  <thead>\n",
              "    <tr style=\"text-align: right;\">\n",
              "      <th></th>\n",
              "      <th>Sl_No</th>\n",
              "      <th>Customer Key</th>\n",
              "      <th>Avg_Credit_Limit</th>\n",
              "      <th>Total_Credit_Cards</th>\n",
              "      <th>Total_visits_bank</th>\n",
              "      <th>Total_visits_online</th>\n",
              "      <th>Total_calls_made</th>\n",
              "    </tr>\n",
              "  </thead>\n",
              "  <tbody>\n",
              "    <tr>\n",
              "      <th>0</th>\n",
              "      <td>1</td>\n",
              "      <td>87073</td>\n",
              "      <td>100000</td>\n",
              "      <td>2</td>\n",
              "      <td>1</td>\n",
              "      <td>1</td>\n",
              "      <td>0</td>\n",
              "    </tr>\n",
              "    <tr>\n",
              "      <th>1</th>\n",
              "      <td>2</td>\n",
              "      <td>38414</td>\n",
              "      <td>50000</td>\n",
              "      <td>3</td>\n",
              "      <td>0</td>\n",
              "      <td>10</td>\n",
              "      <td>9</td>\n",
              "    </tr>\n",
              "    <tr>\n",
              "      <th>2</th>\n",
              "      <td>3</td>\n",
              "      <td>17341</td>\n",
              "      <td>50000</td>\n",
              "      <td>7</td>\n",
              "      <td>1</td>\n",
              "      <td>3</td>\n",
              "      <td>4</td>\n",
              "    </tr>\n",
              "    <tr>\n",
              "      <th>3</th>\n",
              "      <td>4</td>\n",
              "      <td>40496</td>\n",
              "      <td>30000</td>\n",
              "      <td>5</td>\n",
              "      <td>1</td>\n",
              "      <td>1</td>\n",
              "      <td>4</td>\n",
              "    </tr>\n",
              "    <tr>\n",
              "      <th>4</th>\n",
              "      <td>5</td>\n",
              "      <td>47437</td>\n",
              "      <td>100000</td>\n",
              "      <td>6</td>\n",
              "      <td>0</td>\n",
              "      <td>12</td>\n",
              "      <td>3</td>\n",
              "    </tr>\n",
              "  </tbody>\n",
              "</table>\n",
              "</div>\n",
              "    <div class=\"colab-df-buttons\">\n",
              "\n",
              "  <div class=\"colab-df-container\">\n",
              "    <button class=\"colab-df-convert\" onclick=\"convertToInteractive('df-00a4f3c3-7c87-4715-8a29-2448a9a37ba2')\"\n",
              "            title=\"Convert this dataframe to an interactive table.\"\n",
              "            style=\"display:none;\">\n",
              "\n",
              "  <svg xmlns=\"http://www.w3.org/2000/svg\" height=\"24px\" viewBox=\"0 -960 960 960\">\n",
              "    <path d=\"M120-120v-720h720v720H120Zm60-500h600v-160H180v160Zm220 220h160v-160H400v160Zm0 220h160v-160H400v160ZM180-400h160v-160H180v160Zm440 0h160v-160H620v160ZM180-180h160v-160H180v160Zm440 0h160v-160H620v160Z\"/>\n",
              "  </svg>\n",
              "    </button>\n",
              "\n",
              "  <style>\n",
              "    .colab-df-container {\n",
              "      display:flex;\n",
              "      gap: 12px;\n",
              "    }\n",
              "\n",
              "    .colab-df-convert {\n",
              "      background-color: #E8F0FE;\n",
              "      border: none;\n",
              "      border-radius: 50%;\n",
              "      cursor: pointer;\n",
              "      display: none;\n",
              "      fill: #1967D2;\n",
              "      height: 32px;\n",
              "      padding: 0 0 0 0;\n",
              "      width: 32px;\n",
              "    }\n",
              "\n",
              "    .colab-df-convert:hover {\n",
              "      background-color: #E2EBFA;\n",
              "      box-shadow: 0px 1px 2px rgba(60, 64, 67, 0.3), 0px 1px 3px 1px rgba(60, 64, 67, 0.15);\n",
              "      fill: #174EA6;\n",
              "    }\n",
              "\n",
              "    .colab-df-buttons div {\n",
              "      margin-bottom: 4px;\n",
              "    }\n",
              "\n",
              "    [theme=dark] .colab-df-convert {\n",
              "      background-color: #3B4455;\n",
              "      fill: #D2E3FC;\n",
              "    }\n",
              "\n",
              "    [theme=dark] .colab-df-convert:hover {\n",
              "      background-color: #434B5C;\n",
              "      box-shadow: 0px 1px 3px 1px rgba(0, 0, 0, 0.15);\n",
              "      filter: drop-shadow(0px 1px 2px rgba(0, 0, 0, 0.3));\n",
              "      fill: #FFFFFF;\n",
              "    }\n",
              "  </style>\n",
              "\n",
              "    <script>\n",
              "      const buttonEl =\n",
              "        document.querySelector('#df-00a4f3c3-7c87-4715-8a29-2448a9a37ba2 button.colab-df-convert');\n",
              "      buttonEl.style.display =\n",
              "        google.colab.kernel.accessAllowed ? 'block' : 'none';\n",
              "\n",
              "      async function convertToInteractive(key) {\n",
              "        const element = document.querySelector('#df-00a4f3c3-7c87-4715-8a29-2448a9a37ba2');\n",
              "        const dataTable =\n",
              "          await google.colab.kernel.invokeFunction('convertToInteractive',\n",
              "                                                    [key], {});\n",
              "        if (!dataTable) return;\n",
              "\n",
              "        const docLinkHtml = 'Like what you see? Visit the ' +\n",
              "          '<a target=\"_blank\" href=https://colab.research.google.com/notebooks/data_table.ipynb>data table notebook</a>'\n",
              "          + ' to learn more about interactive tables.';\n",
              "        element.innerHTML = '';\n",
              "        dataTable['output_type'] = 'display_data';\n",
              "        await google.colab.output.renderOutput(dataTable, element);\n",
              "        const docLink = document.createElement('div');\n",
              "        docLink.innerHTML = docLinkHtml;\n",
              "        element.appendChild(docLink);\n",
              "      }\n",
              "    </script>\n",
              "  </div>\n",
              "\n",
              "\n",
              "<div id=\"df-3db2d8ba-8c2f-4a03-a9fc-93b8487fd1d7\">\n",
              "  <button class=\"colab-df-quickchart\" onclick=\"quickchart('df-3db2d8ba-8c2f-4a03-a9fc-93b8487fd1d7')\"\n",
              "            title=\"Suggest charts\"\n",
              "            style=\"display:none;\">\n",
              "\n",
              "<svg xmlns=\"http://www.w3.org/2000/svg\" height=\"24px\"viewBox=\"0 0 24 24\"\n",
              "     width=\"24px\">\n",
              "    <g>\n",
              "        <path d=\"M19 3H5c-1.1 0-2 .9-2 2v14c0 1.1.9 2 2 2h14c1.1 0 2-.9 2-2V5c0-1.1-.9-2-2-2zM9 17H7v-7h2v7zm4 0h-2V7h2v10zm4 0h-2v-4h2v4z\"/>\n",
              "    </g>\n",
              "</svg>\n",
              "  </button>\n",
              "\n",
              "<style>\n",
              "  .colab-df-quickchart {\n",
              "      --bg-color: #E8F0FE;\n",
              "      --fill-color: #1967D2;\n",
              "      --hover-bg-color: #E2EBFA;\n",
              "      --hover-fill-color: #174EA6;\n",
              "      --disabled-fill-color: #AAA;\n",
              "      --disabled-bg-color: #DDD;\n",
              "  }\n",
              "\n",
              "  [theme=dark] .colab-df-quickchart {\n",
              "      --bg-color: #3B4455;\n",
              "      --fill-color: #D2E3FC;\n",
              "      --hover-bg-color: #434B5C;\n",
              "      --hover-fill-color: #FFFFFF;\n",
              "      --disabled-bg-color: #3B4455;\n",
              "      --disabled-fill-color: #666;\n",
              "  }\n",
              "\n",
              "  .colab-df-quickchart {\n",
              "    background-color: var(--bg-color);\n",
              "    border: none;\n",
              "    border-radius: 50%;\n",
              "    cursor: pointer;\n",
              "    display: none;\n",
              "    fill: var(--fill-color);\n",
              "    height: 32px;\n",
              "    padding: 0;\n",
              "    width: 32px;\n",
              "  }\n",
              "\n",
              "  .colab-df-quickchart:hover {\n",
              "    background-color: var(--hover-bg-color);\n",
              "    box-shadow: 0 1px 2px rgba(60, 64, 67, 0.3), 0 1px 3px 1px rgba(60, 64, 67, 0.15);\n",
              "    fill: var(--button-hover-fill-color);\n",
              "  }\n",
              "\n",
              "  .colab-df-quickchart-complete:disabled,\n",
              "  .colab-df-quickchart-complete:disabled:hover {\n",
              "    background-color: var(--disabled-bg-color);\n",
              "    fill: var(--disabled-fill-color);\n",
              "    box-shadow: none;\n",
              "  }\n",
              "\n",
              "  .colab-df-spinner {\n",
              "    border: 2px solid var(--fill-color);\n",
              "    border-color: transparent;\n",
              "    border-bottom-color: var(--fill-color);\n",
              "    animation:\n",
              "      spin 1s steps(1) infinite;\n",
              "  }\n",
              "\n",
              "  @keyframes spin {\n",
              "    0% {\n",
              "      border-color: transparent;\n",
              "      border-bottom-color: var(--fill-color);\n",
              "      border-left-color: var(--fill-color);\n",
              "    }\n",
              "    20% {\n",
              "      border-color: transparent;\n",
              "      border-left-color: var(--fill-color);\n",
              "      border-top-color: var(--fill-color);\n",
              "    }\n",
              "    30% {\n",
              "      border-color: transparent;\n",
              "      border-left-color: var(--fill-color);\n",
              "      border-top-color: var(--fill-color);\n",
              "      border-right-color: var(--fill-color);\n",
              "    }\n",
              "    40% {\n",
              "      border-color: transparent;\n",
              "      border-right-color: var(--fill-color);\n",
              "      border-top-color: var(--fill-color);\n",
              "    }\n",
              "    60% {\n",
              "      border-color: transparent;\n",
              "      border-right-color: var(--fill-color);\n",
              "    }\n",
              "    80% {\n",
              "      border-color: transparent;\n",
              "      border-right-color: var(--fill-color);\n",
              "      border-bottom-color: var(--fill-color);\n",
              "    }\n",
              "    90% {\n",
              "      border-color: transparent;\n",
              "      border-bottom-color: var(--fill-color);\n",
              "    }\n",
              "  }\n",
              "</style>\n",
              "\n",
              "  <script>\n",
              "    async function quickchart(key) {\n",
              "      const quickchartButtonEl =\n",
              "        document.querySelector('#' + key + ' button');\n",
              "      quickchartButtonEl.disabled = true;  // To prevent multiple clicks.\n",
              "      quickchartButtonEl.classList.add('colab-df-spinner');\n",
              "      try {\n",
              "        const charts = await google.colab.kernel.invokeFunction(\n",
              "            'suggestCharts', [key], {});\n",
              "      } catch (error) {\n",
              "        console.error('Error during call to suggestCharts:', error);\n",
              "      }\n",
              "      quickchartButtonEl.classList.remove('colab-df-spinner');\n",
              "      quickchartButtonEl.classList.add('colab-df-quickchart-complete');\n",
              "    }\n",
              "    (() => {\n",
              "      let quickchartButtonEl =\n",
              "        document.querySelector('#df-3db2d8ba-8c2f-4a03-a9fc-93b8487fd1d7 button');\n",
              "      quickchartButtonEl.style.display =\n",
              "        google.colab.kernel.accessAllowed ? 'block' : 'none';\n",
              "    })();\n",
              "  </script>\n",
              "</div>\n",
              "\n",
              "    </div>\n",
              "  </div>\n"
            ],
            "application/vnd.google.colaboratory.intrinsic+json": {
              "type": "dataframe",
              "variable_name": "data",
              "summary": "{\n  \"name\": \"data\",\n  \"rows\": 660,\n  \"fields\": [\n    {\n      \"column\": \"Sl_No\",\n      \"properties\": {\n        \"dtype\": \"number\",\n        \"std\": 190,\n        \"min\": 1,\n        \"max\": 660,\n        \"num_unique_values\": 660,\n        \"samples\": [\n          630,\n          500,\n          136\n        ],\n        \"semantic_type\": \"\",\n        \"description\": \"\"\n      }\n    },\n    {\n      \"column\": \"Customer Key\",\n      \"properties\": {\n        \"dtype\": \"number\",\n        \"std\": 25627,\n        \"min\": 11265,\n        \"max\": 99843,\n        \"num_unique_values\": 655,\n        \"samples\": [\n          41159,\n          59656,\n          90131\n        ],\n        \"semantic_type\": \"\",\n        \"description\": \"\"\n      }\n    },\n    {\n      \"column\": \"Avg_Credit_Limit\",\n      \"properties\": {\n        \"dtype\": \"number\",\n        \"std\": 37625,\n        \"min\": 3000,\n        \"max\": 200000,\n        \"num_unique_values\": 110,\n        \"samples\": [\n          176000,\n          9000,\n          15000\n        ],\n        \"semantic_type\": \"\",\n        \"description\": \"\"\n      }\n    },\n    {\n      \"column\": \"Total_Credit_Cards\",\n      \"properties\": {\n        \"dtype\": \"number\",\n        \"std\": 2,\n        \"min\": 1,\n        \"max\": 10,\n        \"num_unique_values\": 10,\n        \"samples\": [\n          8,\n          3,\n          4\n        ],\n        \"semantic_type\": \"\",\n        \"description\": \"\"\n      }\n    },\n    {\n      \"column\": \"Total_visits_bank\",\n      \"properties\": {\n        \"dtype\": \"number\",\n        \"std\": 1,\n        \"min\": 0,\n        \"max\": 5,\n        \"num_unique_values\": 6,\n        \"samples\": [\n          1,\n          0,\n          4\n        ],\n        \"semantic_type\": \"\",\n        \"description\": \"\"\n      }\n    },\n    {\n      \"column\": \"Total_visits_online\",\n      \"properties\": {\n        \"dtype\": \"number\",\n        \"std\": 2,\n        \"min\": 0,\n        \"max\": 15,\n        \"num_unique_values\": 16,\n        \"samples\": [\n          1,\n          10,\n          2\n        ],\n        \"semantic_type\": \"\",\n        \"description\": \"\"\n      }\n    },\n    {\n      \"column\": \"Total_calls_made\",\n      \"properties\": {\n        \"dtype\": \"number\",\n        \"std\": 2,\n        \"min\": 0,\n        \"max\": 10,\n        \"num_unique_values\": 11,\n        \"samples\": [\n          2,\n          0,\n          6\n        ],\n        \"semantic_type\": \"\",\n        \"description\": \"\"\n      }\n    }\n  ]\n}"
            }
          },
          "metadata": {},
          "execution_count": 4
        }
      ]
    },
    {
      "cell_type": "markdown",
      "metadata": {
        "id": "ZmxlhPKovvO-"
      },
      "source": [
        "#### Check the info of the data"
      ]
    },
    {
      "cell_type": "code",
      "metadata": {
        "id": "dtroAFl9vvO-",
        "colab": {
          "base_uri": "https://localhost:8080/"
        },
        "outputId": "37d4014b-7837-4c21-94dd-ee5012886dcd"
      },
      "source": [
        "data.info()"
      ],
      "execution_count": 5,
      "outputs": [
        {
          "output_type": "stream",
          "name": "stdout",
          "text": [
            "<class 'pandas.core.frame.DataFrame'>\n",
            "RangeIndex: 660 entries, 0 to 659\n",
            "Data columns (total 7 columns):\n",
            " #   Column               Non-Null Count  Dtype\n",
            "---  ------               --------------  -----\n",
            " 0   Sl_No                660 non-null    int64\n",
            " 1   Customer Key         660 non-null    int64\n",
            " 2   Avg_Credit_Limit     660 non-null    int64\n",
            " 3   Total_Credit_Cards   660 non-null    int64\n",
            " 4   Total_visits_bank    660 non-null    int64\n",
            " 5   Total_visits_online  660 non-null    int64\n",
            " 6   Total_calls_made     660 non-null    int64\n",
            "dtypes: int64(7)\n",
            "memory usage: 36.2 KB\n"
          ]
        }
      ]
    },
    {
      "cell_type": "markdown",
      "metadata": {
        "id": "EPP73jY5vvPA"
      },
      "source": [
        "**Observations:**\n",
        "\n",
        "- There are 660 observations and 7 columns in the dataset.\n",
        "- All columns have 660 non-null values i.e. there are no missing values.\n",
        "- All columns are of int64 data type."
      ]
    },
    {
      "cell_type": "markdown",
      "metadata": {
        "id": "DOP-MnWovvPA"
      },
      "source": [
        "**There are no missing values. Let us now figure out the unique values in each column.**"
      ]
    },
    {
      "cell_type": "code",
      "metadata": {
        "id": "OCRC8zfDvvPB",
        "colab": {
          "base_uri": "https://localhost:8080/",
          "height": 303
        },
        "outputId": "ad78c608-107d-4e6e-884b-cee3b8e9be07"
      },
      "source": [
        "data.nunique()"
      ],
      "execution_count": 6,
      "outputs": [
        {
          "output_type": "execute_result",
          "data": {
            "text/plain": [
              "Sl_No                  660\n",
              "Customer Key           655\n",
              "Avg_Credit_Limit       110\n",
              "Total_Credit_Cards      10\n",
              "Total_visits_bank        6\n",
              "Total_visits_online     16\n",
              "Total_calls_made        11\n",
              "dtype: int64"
            ],
            "text/html": [
              "<div>\n",
              "<style scoped>\n",
              "    .dataframe tbody tr th:only-of-type {\n",
              "        vertical-align: middle;\n",
              "    }\n",
              "\n",
              "    .dataframe tbody tr th {\n",
              "        vertical-align: top;\n",
              "    }\n",
              "\n",
              "    .dataframe thead th {\n",
              "        text-align: right;\n",
              "    }\n",
              "</style>\n",
              "<table border=\"1\" class=\"dataframe\">\n",
              "  <thead>\n",
              "    <tr style=\"text-align: right;\">\n",
              "      <th></th>\n",
              "      <th>0</th>\n",
              "    </tr>\n",
              "  </thead>\n",
              "  <tbody>\n",
              "    <tr>\n",
              "      <th>Sl_No</th>\n",
              "      <td>660</td>\n",
              "    </tr>\n",
              "    <tr>\n",
              "      <th>Customer Key</th>\n",
              "      <td>655</td>\n",
              "    </tr>\n",
              "    <tr>\n",
              "      <th>Avg_Credit_Limit</th>\n",
              "      <td>110</td>\n",
              "    </tr>\n",
              "    <tr>\n",
              "      <th>Total_Credit_Cards</th>\n",
              "      <td>10</td>\n",
              "    </tr>\n",
              "    <tr>\n",
              "      <th>Total_visits_bank</th>\n",
              "      <td>6</td>\n",
              "    </tr>\n",
              "    <tr>\n",
              "      <th>Total_visits_online</th>\n",
              "      <td>16</td>\n",
              "    </tr>\n",
              "    <tr>\n",
              "      <th>Total_calls_made</th>\n",
              "      <td>11</td>\n",
              "    </tr>\n",
              "  </tbody>\n",
              "</table>\n",
              "</div><br><label><b>dtype:</b> int64</label>"
            ]
          },
          "metadata": {},
          "execution_count": 6
        }
      ]
    },
    {
      "cell_type": "markdown",
      "metadata": {
        "id": "JjjUYpvovvPC"
      },
      "source": [
        "- Customer key, which is an identifier, has repeated values. We should treat this variable accordingly before applying any algorithm."
      ]
    },
    {
      "cell_type": "markdown",
      "metadata": {
        "id": "fpZolGOdvvPC"
      },
      "source": [
        "## Data Preprocessing and Exploratory Data Analysis"
      ]
    },
    {
      "cell_type": "markdown",
      "metadata": {
        "id": "L6bb-Fs0vvPD"
      },
      "source": [
        "#### **Identify and drop the rows with duplicated customer keys**"
      ]
    },
    {
      "cell_type": "code",
      "metadata": {
        "id": "bWj8abFqvvPD",
        "colab": {
          "base_uri": "https://localhost:8080/",
          "height": 89
        },
        "outputId": "01c62e2d-380c-4a83-876a-8e0f18f7b68d"
      },
      "source": [
        "# Identify the duplicated customer keys\n",
        "duplicate_keys = data[data.duplicated()]\n",
        "duplicate_keys"
      ],
      "execution_count": 7,
      "outputs": [
        {
          "output_type": "execute_result",
          "data": {
            "text/plain": [
              "Empty DataFrame\n",
              "Columns: [Sl_No, Customer Key, Avg_Credit_Limit, Total_Credit_Cards, Total_visits_bank, Total_visits_online, Total_calls_made]\n",
              "Index: []"
            ],
            "text/html": [
              "\n",
              "  <div id=\"df-47fc28e2-6cf9-491d-b063-e0a321b08091\" class=\"colab-df-container\">\n",
              "    <div>\n",
              "<style scoped>\n",
              "    .dataframe tbody tr th:only-of-type {\n",
              "        vertical-align: middle;\n",
              "    }\n",
              "\n",
              "    .dataframe tbody tr th {\n",
              "        vertical-align: top;\n",
              "    }\n",
              "\n",
              "    .dataframe thead th {\n",
              "        text-align: right;\n",
              "    }\n",
              "</style>\n",
              "<table border=\"1\" class=\"dataframe\">\n",
              "  <thead>\n",
              "    <tr style=\"text-align: right;\">\n",
              "      <th></th>\n",
              "      <th>Sl_No</th>\n",
              "      <th>Customer Key</th>\n",
              "      <th>Avg_Credit_Limit</th>\n",
              "      <th>Total_Credit_Cards</th>\n",
              "      <th>Total_visits_bank</th>\n",
              "      <th>Total_visits_online</th>\n",
              "      <th>Total_calls_made</th>\n",
              "    </tr>\n",
              "  </thead>\n",
              "  <tbody>\n",
              "  </tbody>\n",
              "</table>\n",
              "</div>\n",
              "    <div class=\"colab-df-buttons\">\n",
              "\n",
              "  <div class=\"colab-df-container\">\n",
              "    <button class=\"colab-df-convert\" onclick=\"convertToInteractive('df-47fc28e2-6cf9-491d-b063-e0a321b08091')\"\n",
              "            title=\"Convert this dataframe to an interactive table.\"\n",
              "            style=\"display:none;\">\n",
              "\n",
              "  <svg xmlns=\"http://www.w3.org/2000/svg\" height=\"24px\" viewBox=\"0 -960 960 960\">\n",
              "    <path d=\"M120-120v-720h720v720H120Zm60-500h600v-160H180v160Zm220 220h160v-160H400v160Zm0 220h160v-160H400v160ZM180-400h160v-160H180v160Zm440 0h160v-160H620v160ZM180-180h160v-160H180v160Zm440 0h160v-160H620v160Z\"/>\n",
              "  </svg>\n",
              "    </button>\n",
              "\n",
              "  <style>\n",
              "    .colab-df-container {\n",
              "      display:flex;\n",
              "      gap: 12px;\n",
              "    }\n",
              "\n",
              "    .colab-df-convert {\n",
              "      background-color: #E8F0FE;\n",
              "      border: none;\n",
              "      border-radius: 50%;\n",
              "      cursor: pointer;\n",
              "      display: none;\n",
              "      fill: #1967D2;\n",
              "      height: 32px;\n",
              "      padding: 0 0 0 0;\n",
              "      width: 32px;\n",
              "    }\n",
              "\n",
              "    .colab-df-convert:hover {\n",
              "      background-color: #E2EBFA;\n",
              "      box-shadow: 0px 1px 2px rgba(60, 64, 67, 0.3), 0px 1px 3px 1px rgba(60, 64, 67, 0.15);\n",
              "      fill: #174EA6;\n",
              "    }\n",
              "\n",
              "    .colab-df-buttons div {\n",
              "      margin-bottom: 4px;\n",
              "    }\n",
              "\n",
              "    [theme=dark] .colab-df-convert {\n",
              "      background-color: #3B4455;\n",
              "      fill: #D2E3FC;\n",
              "    }\n",
              "\n",
              "    [theme=dark] .colab-df-convert:hover {\n",
              "      background-color: #434B5C;\n",
              "      box-shadow: 0px 1px 3px 1px rgba(0, 0, 0, 0.15);\n",
              "      filter: drop-shadow(0px 1px 2px rgba(0, 0, 0, 0.3));\n",
              "      fill: #FFFFFF;\n",
              "    }\n",
              "  </style>\n",
              "\n",
              "    <script>\n",
              "      const buttonEl =\n",
              "        document.querySelector('#df-47fc28e2-6cf9-491d-b063-e0a321b08091 button.colab-df-convert');\n",
              "      buttonEl.style.display =\n",
              "        google.colab.kernel.accessAllowed ? 'block' : 'none';\n",
              "\n",
              "      async function convertToInteractive(key) {\n",
              "        const element = document.querySelector('#df-47fc28e2-6cf9-491d-b063-e0a321b08091');\n",
              "        const dataTable =\n",
              "          await google.colab.kernel.invokeFunction('convertToInteractive',\n",
              "                                                    [key], {});\n",
              "        if (!dataTable) return;\n",
              "\n",
              "        const docLinkHtml = 'Like what you see? Visit the ' +\n",
              "          '<a target=\"_blank\" href=https://colab.research.google.com/notebooks/data_table.ipynb>data table notebook</a>'\n",
              "          + ' to learn more about interactive tables.';\n",
              "        element.innerHTML = '';\n",
              "        dataTable['output_type'] = 'display_data';\n",
              "        await google.colab.output.renderOutput(dataTable, element);\n",
              "        const docLink = document.createElement('div');\n",
              "        docLink.innerHTML = docLinkHtml;\n",
              "        element.appendChild(docLink);\n",
              "      }\n",
              "    </script>\n",
              "  </div>\n",
              "\n",
              "\n",
              "  <div id=\"id_175a5904-2276-419b-9ea1-d8a372be8eb6\">\n",
              "    <style>\n",
              "      .colab-df-generate {\n",
              "        background-color: #E8F0FE;\n",
              "        border: none;\n",
              "        border-radius: 50%;\n",
              "        cursor: pointer;\n",
              "        display: none;\n",
              "        fill: #1967D2;\n",
              "        height: 32px;\n",
              "        padding: 0 0 0 0;\n",
              "        width: 32px;\n",
              "      }\n",
              "\n",
              "      .colab-df-generate:hover {\n",
              "        background-color: #E2EBFA;\n",
              "        box-shadow: 0px 1px 2px rgba(60, 64, 67, 0.3), 0px 1px 3px 1px rgba(60, 64, 67, 0.15);\n",
              "        fill: #174EA6;\n",
              "      }\n",
              "\n",
              "      [theme=dark] .colab-df-generate {\n",
              "        background-color: #3B4455;\n",
              "        fill: #D2E3FC;\n",
              "      }\n",
              "\n",
              "      [theme=dark] .colab-df-generate:hover {\n",
              "        background-color: #434B5C;\n",
              "        box-shadow: 0px 1px 3px 1px rgba(0, 0, 0, 0.15);\n",
              "        filter: drop-shadow(0px 1px 2px rgba(0, 0, 0, 0.3));\n",
              "        fill: #FFFFFF;\n",
              "      }\n",
              "    </style>\n",
              "    <button class=\"colab-df-generate\" onclick=\"generateWithVariable('duplicate_keys')\"\n",
              "            title=\"Generate code using this dataframe.\"\n",
              "            style=\"display:none;\">\n",
              "\n",
              "  <svg xmlns=\"http://www.w3.org/2000/svg\" height=\"24px\"viewBox=\"0 0 24 24\"\n",
              "       width=\"24px\">\n",
              "    <path d=\"M7,19H8.4L18.45,9,17,7.55,7,17.6ZM5,21V16.75L18.45,3.32a2,2,0,0,1,2.83,0l1.4,1.43a1.91,1.91,0,0,1,.58,1.4,1.91,1.91,0,0,1-.58,1.4L9.25,21ZM18.45,9,17,7.55Zm-12,3A5.31,5.31,0,0,0,4.9,8.1,5.31,5.31,0,0,0,1,6.5,5.31,5.31,0,0,0,4.9,4.9,5.31,5.31,0,0,0,6.5,1,5.31,5.31,0,0,0,8.1,4.9,5.31,5.31,0,0,0,12,6.5,5.46,5.46,0,0,0,6.5,12Z\"/>\n",
              "  </svg>\n",
              "    </button>\n",
              "    <script>\n",
              "      (() => {\n",
              "      const buttonEl =\n",
              "        document.querySelector('#id_175a5904-2276-419b-9ea1-d8a372be8eb6 button.colab-df-generate');\n",
              "      buttonEl.style.display =\n",
              "        google.colab.kernel.accessAllowed ? 'block' : 'none';\n",
              "\n",
              "      buttonEl.onclick = () => {\n",
              "        google.colab.notebook.generateWithVariable('duplicate_keys');\n",
              "      }\n",
              "      })();\n",
              "    </script>\n",
              "  </div>\n",
              "\n",
              "    </div>\n",
              "  </div>\n"
            ],
            "application/vnd.google.colaboratory.intrinsic+json": {
              "type": "dataframe",
              "variable_name": "duplicate_keys",
              "summary": "{\n  \"name\": \"duplicate_keys\",\n  \"rows\": 0,\n  \"fields\": [\n    {\n      \"column\": \"Sl_No\",\n      \"properties\": {\n        \"dtype\": \"number\",\n        \"std\": null,\n        \"min\": null,\n        \"max\": null,\n        \"num_unique_values\": 0,\n        \"samples\": [],\n        \"semantic_type\": \"\",\n        \"description\": \"\"\n      }\n    },\n    {\n      \"column\": \"Customer Key\",\n      \"properties\": {\n        \"dtype\": \"number\",\n        \"std\": null,\n        \"min\": null,\n        \"max\": null,\n        \"num_unique_values\": 0,\n        \"samples\": [],\n        \"semantic_type\": \"\",\n        \"description\": \"\"\n      }\n    },\n    {\n      \"column\": \"Avg_Credit_Limit\",\n      \"properties\": {\n        \"dtype\": \"number\",\n        \"std\": null,\n        \"min\": null,\n        \"max\": null,\n        \"num_unique_values\": 0,\n        \"samples\": [],\n        \"semantic_type\": \"\",\n        \"description\": \"\"\n      }\n    },\n    {\n      \"column\": \"Total_Credit_Cards\",\n      \"properties\": {\n        \"dtype\": \"number\",\n        \"std\": null,\n        \"min\": null,\n        \"max\": null,\n        \"num_unique_values\": 0,\n        \"samples\": [],\n        \"semantic_type\": \"\",\n        \"description\": \"\"\n      }\n    },\n    {\n      \"column\": \"Total_visits_bank\",\n      \"properties\": {\n        \"dtype\": \"number\",\n        \"std\": null,\n        \"min\": null,\n        \"max\": null,\n        \"num_unique_values\": 0,\n        \"samples\": [],\n        \"semantic_type\": \"\",\n        \"description\": \"\"\n      }\n    },\n    {\n      \"column\": \"Total_visits_online\",\n      \"properties\": {\n        \"dtype\": \"number\",\n        \"std\": null,\n        \"min\": null,\n        \"max\": null,\n        \"num_unique_values\": 0,\n        \"samples\": [],\n        \"semantic_type\": \"\",\n        \"description\": \"\"\n      }\n    },\n    {\n      \"column\": \"Total_calls_made\",\n      \"properties\": {\n        \"dtype\": \"number\",\n        \"std\": null,\n        \"min\": null,\n        \"max\": null,\n        \"num_unique_values\": 0,\n        \"samples\": [],\n        \"semantic_type\": \"\",\n        \"description\": \"\"\n      }\n    }\n  ]\n}"
            }
          },
          "metadata": {},
          "execution_count": 7
        }
      ]
    },
    {
      "cell_type": "markdown",
      "metadata": {
        "id": "IDaRoTAQvvPF"
      },
      "source": [
        "We have done some basic checks. Now, let's drop the variables that are not required for our analysis."
      ]
    },
    {
      "cell_type": "code",
      "metadata": {
        "id": "albq4GJ2vvPF"
      },
      "source": [
        "data.drop(columns = ['Sl_No', 'Customer Key'], inplace = True)"
      ],
      "execution_count": 8,
      "outputs": []
    },
    {
      "cell_type": "markdown",
      "metadata": {
        "id": "fRqvXDr4vvPG"
      },
      "source": [
        "Now that we have dropped unnecessary column. We can again check for duplicates. Duplicates would mean customers with identical features."
      ]
    },
    {
      "cell_type": "code",
      "metadata": {
        "id": "J2EV_kXUvvPG",
        "colab": {
          "base_uri": "https://localhost:8080/",
          "height": 394
        },
        "outputId": "23296411-aab3-4e8d-9bbc-41f3c1a6ffaf"
      },
      "source": [
        "data[data.duplicated()]"
      ],
      "execution_count": 9,
      "outputs": [
        {
          "output_type": "execute_result",
          "data": {
            "text/plain": [
              "     Avg_Credit_Limit  Total_Credit_Cards  Total_visits_bank  \\\n",
              "162              8000                   2                  0   \n",
              "175              6000                   1                  0   \n",
              "215              8000                   4                  0   \n",
              "295             10000                   6                  4   \n",
              "324              9000                   4                  5   \n",
              "361             18000                   6                  3   \n",
              "378             12000                   6                  5   \n",
              "385              8000                   7                  4   \n",
              "395              5000                   4                  5   \n",
              "455             47000                   6                  2   \n",
              "497             52000                   4                  2   \n",
              "\n",
              "     Total_visits_online  Total_calls_made  \n",
              "162                    3                 4  \n",
              "175                    2                 5  \n",
              "215                    4                 7  \n",
              "295                    2                 3  \n",
              "324                    0                 4  \n",
              "361                    1                 4  \n",
              "378                    2                 1  \n",
              "385                    2                 0  \n",
              "395                    0                 1  \n",
              "455                    0                 4  \n",
              "497                    1                 2  "
            ],
            "text/html": [
              "\n",
              "  <div id=\"df-36104664-18f8-4a70-8c41-216ad0ab4ef1\" class=\"colab-df-container\">\n",
              "    <div>\n",
              "<style scoped>\n",
              "    .dataframe tbody tr th:only-of-type {\n",
              "        vertical-align: middle;\n",
              "    }\n",
              "\n",
              "    .dataframe tbody tr th {\n",
              "        vertical-align: top;\n",
              "    }\n",
              "\n",
              "    .dataframe thead th {\n",
              "        text-align: right;\n",
              "    }\n",
              "</style>\n",
              "<table border=\"1\" class=\"dataframe\">\n",
              "  <thead>\n",
              "    <tr style=\"text-align: right;\">\n",
              "      <th></th>\n",
              "      <th>Avg_Credit_Limit</th>\n",
              "      <th>Total_Credit_Cards</th>\n",
              "      <th>Total_visits_bank</th>\n",
              "      <th>Total_visits_online</th>\n",
              "      <th>Total_calls_made</th>\n",
              "    </tr>\n",
              "  </thead>\n",
              "  <tbody>\n",
              "    <tr>\n",
              "      <th>162</th>\n",
              "      <td>8000</td>\n",
              "      <td>2</td>\n",
              "      <td>0</td>\n",
              "      <td>3</td>\n",
              "      <td>4</td>\n",
              "    </tr>\n",
              "    <tr>\n",
              "      <th>175</th>\n",
              "      <td>6000</td>\n",
              "      <td>1</td>\n",
              "      <td>0</td>\n",
              "      <td>2</td>\n",
              "      <td>5</td>\n",
              "    </tr>\n",
              "    <tr>\n",
              "      <th>215</th>\n",
              "      <td>8000</td>\n",
              "      <td>4</td>\n",
              "      <td>0</td>\n",
              "      <td>4</td>\n",
              "      <td>7</td>\n",
              "    </tr>\n",
              "    <tr>\n",
              "      <th>295</th>\n",
              "      <td>10000</td>\n",
              "      <td>6</td>\n",
              "      <td>4</td>\n",
              "      <td>2</td>\n",
              "      <td>3</td>\n",
              "    </tr>\n",
              "    <tr>\n",
              "      <th>324</th>\n",
              "      <td>9000</td>\n",
              "      <td>4</td>\n",
              "      <td>5</td>\n",
              "      <td>0</td>\n",
              "      <td>4</td>\n",
              "    </tr>\n",
              "    <tr>\n",
              "      <th>361</th>\n",
              "      <td>18000</td>\n",
              "      <td>6</td>\n",
              "      <td>3</td>\n",
              "      <td>1</td>\n",
              "      <td>4</td>\n",
              "    </tr>\n",
              "    <tr>\n",
              "      <th>378</th>\n",
              "      <td>12000</td>\n",
              "      <td>6</td>\n",
              "      <td>5</td>\n",
              "      <td>2</td>\n",
              "      <td>1</td>\n",
              "    </tr>\n",
              "    <tr>\n",
              "      <th>385</th>\n",
              "      <td>8000</td>\n",
              "      <td>7</td>\n",
              "      <td>4</td>\n",
              "      <td>2</td>\n",
              "      <td>0</td>\n",
              "    </tr>\n",
              "    <tr>\n",
              "      <th>395</th>\n",
              "      <td>5000</td>\n",
              "      <td>4</td>\n",
              "      <td>5</td>\n",
              "      <td>0</td>\n",
              "      <td>1</td>\n",
              "    </tr>\n",
              "    <tr>\n",
              "      <th>455</th>\n",
              "      <td>47000</td>\n",
              "      <td>6</td>\n",
              "      <td>2</td>\n",
              "      <td>0</td>\n",
              "      <td>4</td>\n",
              "    </tr>\n",
              "    <tr>\n",
              "      <th>497</th>\n",
              "      <td>52000</td>\n",
              "      <td>4</td>\n",
              "      <td>2</td>\n",
              "      <td>1</td>\n",
              "      <td>2</td>\n",
              "    </tr>\n",
              "  </tbody>\n",
              "</table>\n",
              "</div>\n",
              "    <div class=\"colab-df-buttons\">\n",
              "\n",
              "  <div class=\"colab-df-container\">\n",
              "    <button class=\"colab-df-convert\" onclick=\"convertToInteractive('df-36104664-18f8-4a70-8c41-216ad0ab4ef1')\"\n",
              "            title=\"Convert this dataframe to an interactive table.\"\n",
              "            style=\"display:none;\">\n",
              "\n",
              "  <svg xmlns=\"http://www.w3.org/2000/svg\" height=\"24px\" viewBox=\"0 -960 960 960\">\n",
              "    <path d=\"M120-120v-720h720v720H120Zm60-500h600v-160H180v160Zm220 220h160v-160H400v160Zm0 220h160v-160H400v160ZM180-400h160v-160H180v160Zm440 0h160v-160H620v160ZM180-180h160v-160H180v160Zm440 0h160v-160H620v160Z\"/>\n",
              "  </svg>\n",
              "    </button>\n",
              "\n",
              "  <style>\n",
              "    .colab-df-container {\n",
              "      display:flex;\n",
              "      gap: 12px;\n",
              "    }\n",
              "\n",
              "    .colab-df-convert {\n",
              "      background-color: #E8F0FE;\n",
              "      border: none;\n",
              "      border-radius: 50%;\n",
              "      cursor: pointer;\n",
              "      display: none;\n",
              "      fill: #1967D2;\n",
              "      height: 32px;\n",
              "      padding: 0 0 0 0;\n",
              "      width: 32px;\n",
              "    }\n",
              "\n",
              "    .colab-df-convert:hover {\n",
              "      background-color: #E2EBFA;\n",
              "      box-shadow: 0px 1px 2px rgba(60, 64, 67, 0.3), 0px 1px 3px 1px rgba(60, 64, 67, 0.15);\n",
              "      fill: #174EA6;\n",
              "    }\n",
              "\n",
              "    .colab-df-buttons div {\n",
              "      margin-bottom: 4px;\n",
              "    }\n",
              "\n",
              "    [theme=dark] .colab-df-convert {\n",
              "      background-color: #3B4455;\n",
              "      fill: #D2E3FC;\n",
              "    }\n",
              "\n",
              "    [theme=dark] .colab-df-convert:hover {\n",
              "      background-color: #434B5C;\n",
              "      box-shadow: 0px 1px 3px 1px rgba(0, 0, 0, 0.15);\n",
              "      filter: drop-shadow(0px 1px 2px rgba(0, 0, 0, 0.3));\n",
              "      fill: #FFFFFF;\n",
              "    }\n",
              "  </style>\n",
              "\n",
              "    <script>\n",
              "      const buttonEl =\n",
              "        document.querySelector('#df-36104664-18f8-4a70-8c41-216ad0ab4ef1 button.colab-df-convert');\n",
              "      buttonEl.style.display =\n",
              "        google.colab.kernel.accessAllowed ? 'block' : 'none';\n",
              "\n",
              "      async function convertToInteractive(key) {\n",
              "        const element = document.querySelector('#df-36104664-18f8-4a70-8c41-216ad0ab4ef1');\n",
              "        const dataTable =\n",
              "          await google.colab.kernel.invokeFunction('convertToInteractive',\n",
              "                                                    [key], {});\n",
              "        if (!dataTable) return;\n",
              "\n",
              "        const docLinkHtml = 'Like what you see? Visit the ' +\n",
              "          '<a target=\"_blank\" href=https://colab.research.google.com/notebooks/data_table.ipynb>data table notebook</a>'\n",
              "          + ' to learn more about interactive tables.';\n",
              "        element.innerHTML = '';\n",
              "        dataTable['output_type'] = 'display_data';\n",
              "        await google.colab.output.renderOutput(dataTable, element);\n",
              "        const docLink = document.createElement('div');\n",
              "        docLink.innerHTML = docLinkHtml;\n",
              "        element.appendChild(docLink);\n",
              "      }\n",
              "    </script>\n",
              "  </div>\n",
              "\n",
              "\n",
              "<div id=\"df-92595bfc-884e-4aec-8292-d668894177fd\">\n",
              "  <button class=\"colab-df-quickchart\" onclick=\"quickchart('df-92595bfc-884e-4aec-8292-d668894177fd')\"\n",
              "            title=\"Suggest charts\"\n",
              "            style=\"display:none;\">\n",
              "\n",
              "<svg xmlns=\"http://www.w3.org/2000/svg\" height=\"24px\"viewBox=\"0 0 24 24\"\n",
              "     width=\"24px\">\n",
              "    <g>\n",
              "        <path d=\"M19 3H5c-1.1 0-2 .9-2 2v14c0 1.1.9 2 2 2h14c1.1 0 2-.9 2-2V5c0-1.1-.9-2-2-2zM9 17H7v-7h2v7zm4 0h-2V7h2v10zm4 0h-2v-4h2v4z\"/>\n",
              "    </g>\n",
              "</svg>\n",
              "  </button>\n",
              "\n",
              "<style>\n",
              "  .colab-df-quickchart {\n",
              "      --bg-color: #E8F0FE;\n",
              "      --fill-color: #1967D2;\n",
              "      --hover-bg-color: #E2EBFA;\n",
              "      --hover-fill-color: #174EA6;\n",
              "      --disabled-fill-color: #AAA;\n",
              "      --disabled-bg-color: #DDD;\n",
              "  }\n",
              "\n",
              "  [theme=dark] .colab-df-quickchart {\n",
              "      --bg-color: #3B4455;\n",
              "      --fill-color: #D2E3FC;\n",
              "      --hover-bg-color: #434B5C;\n",
              "      --hover-fill-color: #FFFFFF;\n",
              "      --disabled-bg-color: #3B4455;\n",
              "      --disabled-fill-color: #666;\n",
              "  }\n",
              "\n",
              "  .colab-df-quickchart {\n",
              "    background-color: var(--bg-color);\n",
              "    border: none;\n",
              "    border-radius: 50%;\n",
              "    cursor: pointer;\n",
              "    display: none;\n",
              "    fill: var(--fill-color);\n",
              "    height: 32px;\n",
              "    padding: 0;\n",
              "    width: 32px;\n",
              "  }\n",
              "\n",
              "  .colab-df-quickchart:hover {\n",
              "    background-color: var(--hover-bg-color);\n",
              "    box-shadow: 0 1px 2px rgba(60, 64, 67, 0.3), 0 1px 3px 1px rgba(60, 64, 67, 0.15);\n",
              "    fill: var(--button-hover-fill-color);\n",
              "  }\n",
              "\n",
              "  .colab-df-quickchart-complete:disabled,\n",
              "  .colab-df-quickchart-complete:disabled:hover {\n",
              "    background-color: var(--disabled-bg-color);\n",
              "    fill: var(--disabled-fill-color);\n",
              "    box-shadow: none;\n",
              "  }\n",
              "\n",
              "  .colab-df-spinner {\n",
              "    border: 2px solid var(--fill-color);\n",
              "    border-color: transparent;\n",
              "    border-bottom-color: var(--fill-color);\n",
              "    animation:\n",
              "      spin 1s steps(1) infinite;\n",
              "  }\n",
              "\n",
              "  @keyframes spin {\n",
              "    0% {\n",
              "      border-color: transparent;\n",
              "      border-bottom-color: var(--fill-color);\n",
              "      border-left-color: var(--fill-color);\n",
              "    }\n",
              "    20% {\n",
              "      border-color: transparent;\n",
              "      border-left-color: var(--fill-color);\n",
              "      border-top-color: var(--fill-color);\n",
              "    }\n",
              "    30% {\n",
              "      border-color: transparent;\n",
              "      border-left-color: var(--fill-color);\n",
              "      border-top-color: var(--fill-color);\n",
              "      border-right-color: var(--fill-color);\n",
              "    }\n",
              "    40% {\n",
              "      border-color: transparent;\n",
              "      border-right-color: var(--fill-color);\n",
              "      border-top-color: var(--fill-color);\n",
              "    }\n",
              "    60% {\n",
              "      border-color: transparent;\n",
              "      border-right-color: var(--fill-color);\n",
              "    }\n",
              "    80% {\n",
              "      border-color: transparent;\n",
              "      border-right-color: var(--fill-color);\n",
              "      border-bottom-color: var(--fill-color);\n",
              "    }\n",
              "    90% {\n",
              "      border-color: transparent;\n",
              "      border-bottom-color: var(--fill-color);\n",
              "    }\n",
              "  }\n",
              "</style>\n",
              "\n",
              "  <script>\n",
              "    async function quickchart(key) {\n",
              "      const quickchartButtonEl =\n",
              "        document.querySelector('#' + key + ' button');\n",
              "      quickchartButtonEl.disabled = true;  // To prevent multiple clicks.\n",
              "      quickchartButtonEl.classList.add('colab-df-spinner');\n",
              "      try {\n",
              "        const charts = await google.colab.kernel.invokeFunction(\n",
              "            'suggestCharts', [key], {});\n",
              "      } catch (error) {\n",
              "        console.error('Error during call to suggestCharts:', error);\n",
              "      }\n",
              "      quickchartButtonEl.classList.remove('colab-df-spinner');\n",
              "      quickchartButtonEl.classList.add('colab-df-quickchart-complete');\n",
              "    }\n",
              "    (() => {\n",
              "      let quickchartButtonEl =\n",
              "        document.querySelector('#df-92595bfc-884e-4aec-8292-d668894177fd button');\n",
              "      quickchartButtonEl.style.display =\n",
              "        google.colab.kernel.accessAllowed ? 'block' : 'none';\n",
              "    })();\n",
              "  </script>\n",
              "</div>\n",
              "\n",
              "    </div>\n",
              "  </div>\n"
            ],
            "application/vnd.google.colaboratory.intrinsic+json": {
              "type": "dataframe",
              "summary": "{\n  \"name\": \"data[data\",\n  \"rows\": 11,\n  \"fields\": [\n    {\n      \"column\": \"Avg_Credit_Limit\",\n      \"properties\": {\n        \"dtype\": \"number\",\n        \"std\": 16644,\n        \"min\": 5000,\n        \"max\": 52000,\n        \"num_unique_values\": 9,\n        \"samples\": [\n          47000,\n          6000,\n          12000\n        ],\n        \"semantic_type\": \"\",\n        \"description\": \"\"\n      }\n    },\n    {\n      \"column\": \"Total_Credit_Cards\",\n      \"properties\": {\n        \"dtype\": \"number\",\n        \"std\": 1,\n        \"min\": 1,\n        \"max\": 7,\n        \"num_unique_values\": 5,\n        \"samples\": [\n          1,\n          7,\n          4\n        ],\n        \"semantic_type\": \"\",\n        \"description\": \"\"\n      }\n    },\n    {\n      \"column\": \"Total_visits_bank\",\n      \"properties\": {\n        \"dtype\": \"number\",\n        \"std\": 2,\n        \"min\": 0,\n        \"max\": 5,\n        \"num_unique_values\": 5,\n        \"samples\": [\n          4,\n          2,\n          5\n        ],\n        \"semantic_type\": \"\",\n        \"description\": \"\"\n      }\n    },\n    {\n      \"column\": \"Total_visits_online\",\n      \"properties\": {\n        \"dtype\": \"number\",\n        \"std\": 1,\n        \"min\": 0,\n        \"max\": 4,\n        \"num_unique_values\": 5,\n        \"samples\": [\n          2,\n          1,\n          4\n        ],\n        \"semantic_type\": \"\",\n        \"description\": \"\"\n      }\n    },\n    {\n      \"column\": \"Total_calls_made\",\n      \"properties\": {\n        \"dtype\": \"number\",\n        \"std\": 2,\n        \"min\": 0,\n        \"max\": 7,\n        \"num_unique_values\": 7,\n        \"samples\": [\n          4,\n          5,\n          0\n        ],\n        \"semantic_type\": \"\",\n        \"description\": \"\"\n      }\n    }\n  ]\n}"
            }
          },
          "metadata": {},
          "execution_count": 9
        }
      ]
    },
    {
      "cell_type": "markdown",
      "metadata": {
        "id": "V7Xt_Ss3vvPG"
      },
      "source": [
        "We can drop these duplicated rows from the data"
      ]
    },
    {
      "cell_type": "code",
      "metadata": {
        "id": "aBnoG0IivvPH"
      },
      "source": [
        "data=data[~data.duplicated()]"
      ],
      "execution_count": 10,
      "outputs": []
    },
    {
      "cell_type": "code",
      "metadata": {
        "id": "Bgj7fBervvPH",
        "colab": {
          "base_uri": "https://localhost:8080/"
        },
        "outputId": "0f81550b-934e-46f2-8310-d31e5432dfe1"
      },
      "source": [
        "data.shape"
      ],
      "execution_count": 11,
      "outputs": [
        {
          "output_type": "execute_result",
          "data": {
            "text/plain": [
              "(649, 5)"
            ]
          },
          "metadata": {},
          "execution_count": 11
        }
      ]
    },
    {
      "cell_type": "markdown",
      "metadata": {
        "id": "JtAIAYr9vvPH"
      },
      "source": [
        "- After removing duplicated keys and rows and unnecessary columns, there are 649 unique observations and 5 columns in our data."
      ]
    },
    {
      "cell_type": "markdown",
      "metadata": {
        "id": "LmykagZ0vvPI"
      },
      "source": [
        "#### Summary Statistics"
      ]
    },
    {
      "cell_type": "markdown",
      "metadata": {
        "id": "PqPGo3N4vvPI"
      },
      "source": [
        "#### **Observations based on the summary statistics of the data**"
      ]
    },
    {
      "cell_type": "code",
      "metadata": {
        "id": "yg-YXbPNvvPI",
        "colab": {
          "base_uri": "https://localhost:8080/",
          "height": 206
        },
        "outputId": "7cee88fe-4ee6-46d5-8987-df9c14d8ad21"
      },
      "source": [
        "data.describe().T"
      ],
      "execution_count": 12,
      "outputs": [
        {
          "output_type": "execute_result",
          "data": {
            "text/plain": [
              "                     count          mean           std     min      25%  \\\n",
              "Avg_Credit_Limit     649.0  34878.274268  37813.736638  3000.0  11000.0   \n",
              "Total_Credit_Cards   649.0      4.708783      2.173763     1.0      3.0   \n",
              "Total_visits_bank    649.0      2.397535      1.625148     0.0      1.0   \n",
              "Total_visits_online  649.0      2.624037      2.952888     0.0      1.0   \n",
              "Total_calls_made     649.0      3.590139      2.877911     0.0      1.0   \n",
              "\n",
              "                         50%      75%       max  \n",
              "Avg_Credit_Limit     18000.0  49000.0  200000.0  \n",
              "Total_Credit_Cards       5.0      6.0      10.0  \n",
              "Total_visits_bank        2.0      4.0       5.0  \n",
              "Total_visits_online      2.0      4.0      15.0  \n",
              "Total_calls_made         3.0      5.0      10.0  "
            ],
            "text/html": [
              "\n",
              "  <div id=\"df-405675b2-33b3-42de-b62b-5df1e6285322\" class=\"colab-df-container\">\n",
              "    <div>\n",
              "<style scoped>\n",
              "    .dataframe tbody tr th:only-of-type {\n",
              "        vertical-align: middle;\n",
              "    }\n",
              "\n",
              "    .dataframe tbody tr th {\n",
              "        vertical-align: top;\n",
              "    }\n",
              "\n",
              "    .dataframe thead th {\n",
              "        text-align: right;\n",
              "    }\n",
              "</style>\n",
              "<table border=\"1\" class=\"dataframe\">\n",
              "  <thead>\n",
              "    <tr style=\"text-align: right;\">\n",
              "      <th></th>\n",
              "      <th>count</th>\n",
              "      <th>mean</th>\n",
              "      <th>std</th>\n",
              "      <th>min</th>\n",
              "      <th>25%</th>\n",
              "      <th>50%</th>\n",
              "      <th>75%</th>\n",
              "      <th>max</th>\n",
              "    </tr>\n",
              "  </thead>\n",
              "  <tbody>\n",
              "    <tr>\n",
              "      <th>Avg_Credit_Limit</th>\n",
              "      <td>649.0</td>\n",
              "      <td>34878.274268</td>\n",
              "      <td>37813.736638</td>\n",
              "      <td>3000.0</td>\n",
              "      <td>11000.0</td>\n",
              "      <td>18000.0</td>\n",
              "      <td>49000.0</td>\n",
              "      <td>200000.0</td>\n",
              "    </tr>\n",
              "    <tr>\n",
              "      <th>Total_Credit_Cards</th>\n",
              "      <td>649.0</td>\n",
              "      <td>4.708783</td>\n",
              "      <td>2.173763</td>\n",
              "      <td>1.0</td>\n",
              "      <td>3.0</td>\n",
              "      <td>5.0</td>\n",
              "      <td>6.0</td>\n",
              "      <td>10.0</td>\n",
              "    </tr>\n",
              "    <tr>\n",
              "      <th>Total_visits_bank</th>\n",
              "      <td>649.0</td>\n",
              "      <td>2.397535</td>\n",
              "      <td>1.625148</td>\n",
              "      <td>0.0</td>\n",
              "      <td>1.0</td>\n",
              "      <td>2.0</td>\n",
              "      <td>4.0</td>\n",
              "      <td>5.0</td>\n",
              "    </tr>\n",
              "    <tr>\n",
              "      <th>Total_visits_online</th>\n",
              "      <td>649.0</td>\n",
              "      <td>2.624037</td>\n",
              "      <td>2.952888</td>\n",
              "      <td>0.0</td>\n",
              "      <td>1.0</td>\n",
              "      <td>2.0</td>\n",
              "      <td>4.0</td>\n",
              "      <td>15.0</td>\n",
              "    </tr>\n",
              "    <tr>\n",
              "      <th>Total_calls_made</th>\n",
              "      <td>649.0</td>\n",
              "      <td>3.590139</td>\n",
              "      <td>2.877911</td>\n",
              "      <td>0.0</td>\n",
              "      <td>1.0</td>\n",
              "      <td>3.0</td>\n",
              "      <td>5.0</td>\n",
              "      <td>10.0</td>\n",
              "    </tr>\n",
              "  </tbody>\n",
              "</table>\n",
              "</div>\n",
              "    <div class=\"colab-df-buttons\">\n",
              "\n",
              "  <div class=\"colab-df-container\">\n",
              "    <button class=\"colab-df-convert\" onclick=\"convertToInteractive('df-405675b2-33b3-42de-b62b-5df1e6285322')\"\n",
              "            title=\"Convert this dataframe to an interactive table.\"\n",
              "            style=\"display:none;\">\n",
              "\n",
              "  <svg xmlns=\"http://www.w3.org/2000/svg\" height=\"24px\" viewBox=\"0 -960 960 960\">\n",
              "    <path d=\"M120-120v-720h720v720H120Zm60-500h600v-160H180v160Zm220 220h160v-160H400v160Zm0 220h160v-160H400v160ZM180-400h160v-160H180v160Zm440 0h160v-160H620v160ZM180-180h160v-160H180v160Zm440 0h160v-160H620v160Z\"/>\n",
              "  </svg>\n",
              "    </button>\n",
              "\n",
              "  <style>\n",
              "    .colab-df-container {\n",
              "      display:flex;\n",
              "      gap: 12px;\n",
              "    }\n",
              "\n",
              "    .colab-df-convert {\n",
              "      background-color: #E8F0FE;\n",
              "      border: none;\n",
              "      border-radius: 50%;\n",
              "      cursor: pointer;\n",
              "      display: none;\n",
              "      fill: #1967D2;\n",
              "      height: 32px;\n",
              "      padding: 0 0 0 0;\n",
              "      width: 32px;\n",
              "    }\n",
              "\n",
              "    .colab-df-convert:hover {\n",
              "      background-color: #E2EBFA;\n",
              "      box-shadow: 0px 1px 2px rgba(60, 64, 67, 0.3), 0px 1px 3px 1px rgba(60, 64, 67, 0.15);\n",
              "      fill: #174EA6;\n",
              "    }\n",
              "\n",
              "    .colab-df-buttons div {\n",
              "      margin-bottom: 4px;\n",
              "    }\n",
              "\n",
              "    [theme=dark] .colab-df-convert {\n",
              "      background-color: #3B4455;\n",
              "      fill: #D2E3FC;\n",
              "    }\n",
              "\n",
              "    [theme=dark] .colab-df-convert:hover {\n",
              "      background-color: #434B5C;\n",
              "      box-shadow: 0px 1px 3px 1px rgba(0, 0, 0, 0.15);\n",
              "      filter: drop-shadow(0px 1px 2px rgba(0, 0, 0, 0.3));\n",
              "      fill: #FFFFFF;\n",
              "    }\n",
              "  </style>\n",
              "\n",
              "    <script>\n",
              "      const buttonEl =\n",
              "        document.querySelector('#df-405675b2-33b3-42de-b62b-5df1e6285322 button.colab-df-convert');\n",
              "      buttonEl.style.display =\n",
              "        google.colab.kernel.accessAllowed ? 'block' : 'none';\n",
              "\n",
              "      async function convertToInteractive(key) {\n",
              "        const element = document.querySelector('#df-405675b2-33b3-42de-b62b-5df1e6285322');\n",
              "        const dataTable =\n",
              "          await google.colab.kernel.invokeFunction('convertToInteractive',\n",
              "                                                    [key], {});\n",
              "        if (!dataTable) return;\n",
              "\n",
              "        const docLinkHtml = 'Like what you see? Visit the ' +\n",
              "          '<a target=\"_blank\" href=https://colab.research.google.com/notebooks/data_table.ipynb>data table notebook</a>'\n",
              "          + ' to learn more about interactive tables.';\n",
              "        element.innerHTML = '';\n",
              "        dataTable['output_type'] = 'display_data';\n",
              "        await google.colab.output.renderOutput(dataTable, element);\n",
              "        const docLink = document.createElement('div');\n",
              "        docLink.innerHTML = docLinkHtml;\n",
              "        element.appendChild(docLink);\n",
              "      }\n",
              "    </script>\n",
              "  </div>\n",
              "\n",
              "\n",
              "<div id=\"df-8a73d308-3388-4c10-bc03-594e9a8d75e2\">\n",
              "  <button class=\"colab-df-quickchart\" onclick=\"quickchart('df-8a73d308-3388-4c10-bc03-594e9a8d75e2')\"\n",
              "            title=\"Suggest charts\"\n",
              "            style=\"display:none;\">\n",
              "\n",
              "<svg xmlns=\"http://www.w3.org/2000/svg\" height=\"24px\"viewBox=\"0 0 24 24\"\n",
              "     width=\"24px\">\n",
              "    <g>\n",
              "        <path d=\"M19 3H5c-1.1 0-2 .9-2 2v14c0 1.1.9 2 2 2h14c1.1 0 2-.9 2-2V5c0-1.1-.9-2-2-2zM9 17H7v-7h2v7zm4 0h-2V7h2v10zm4 0h-2v-4h2v4z\"/>\n",
              "    </g>\n",
              "</svg>\n",
              "  </button>\n",
              "\n",
              "<style>\n",
              "  .colab-df-quickchart {\n",
              "      --bg-color: #E8F0FE;\n",
              "      --fill-color: #1967D2;\n",
              "      --hover-bg-color: #E2EBFA;\n",
              "      --hover-fill-color: #174EA6;\n",
              "      --disabled-fill-color: #AAA;\n",
              "      --disabled-bg-color: #DDD;\n",
              "  }\n",
              "\n",
              "  [theme=dark] .colab-df-quickchart {\n",
              "      --bg-color: #3B4455;\n",
              "      --fill-color: #D2E3FC;\n",
              "      --hover-bg-color: #434B5C;\n",
              "      --hover-fill-color: #FFFFFF;\n",
              "      --disabled-bg-color: #3B4455;\n",
              "      --disabled-fill-color: #666;\n",
              "  }\n",
              "\n",
              "  .colab-df-quickchart {\n",
              "    background-color: var(--bg-color);\n",
              "    border: none;\n",
              "    border-radius: 50%;\n",
              "    cursor: pointer;\n",
              "    display: none;\n",
              "    fill: var(--fill-color);\n",
              "    height: 32px;\n",
              "    padding: 0;\n",
              "    width: 32px;\n",
              "  }\n",
              "\n",
              "  .colab-df-quickchart:hover {\n",
              "    background-color: var(--hover-bg-color);\n",
              "    box-shadow: 0 1px 2px rgba(60, 64, 67, 0.3), 0 1px 3px 1px rgba(60, 64, 67, 0.15);\n",
              "    fill: var(--button-hover-fill-color);\n",
              "  }\n",
              "\n",
              "  .colab-df-quickchart-complete:disabled,\n",
              "  .colab-df-quickchart-complete:disabled:hover {\n",
              "    background-color: var(--disabled-bg-color);\n",
              "    fill: var(--disabled-fill-color);\n",
              "    box-shadow: none;\n",
              "  }\n",
              "\n",
              "  .colab-df-spinner {\n",
              "    border: 2px solid var(--fill-color);\n",
              "    border-color: transparent;\n",
              "    border-bottom-color: var(--fill-color);\n",
              "    animation:\n",
              "      spin 1s steps(1) infinite;\n",
              "  }\n",
              "\n",
              "  @keyframes spin {\n",
              "    0% {\n",
              "      border-color: transparent;\n",
              "      border-bottom-color: var(--fill-color);\n",
              "      border-left-color: var(--fill-color);\n",
              "    }\n",
              "    20% {\n",
              "      border-color: transparent;\n",
              "      border-left-color: var(--fill-color);\n",
              "      border-top-color: var(--fill-color);\n",
              "    }\n",
              "    30% {\n",
              "      border-color: transparent;\n",
              "      border-left-color: var(--fill-color);\n",
              "      border-top-color: var(--fill-color);\n",
              "      border-right-color: var(--fill-color);\n",
              "    }\n",
              "    40% {\n",
              "      border-color: transparent;\n",
              "      border-right-color: var(--fill-color);\n",
              "      border-top-color: var(--fill-color);\n",
              "    }\n",
              "    60% {\n",
              "      border-color: transparent;\n",
              "      border-right-color: var(--fill-color);\n",
              "    }\n",
              "    80% {\n",
              "      border-color: transparent;\n",
              "      border-right-color: var(--fill-color);\n",
              "      border-bottom-color: var(--fill-color);\n",
              "    }\n",
              "    90% {\n",
              "      border-color: transparent;\n",
              "      border-bottom-color: var(--fill-color);\n",
              "    }\n",
              "  }\n",
              "</style>\n",
              "\n",
              "  <script>\n",
              "    async function quickchart(key) {\n",
              "      const quickchartButtonEl =\n",
              "        document.querySelector('#' + key + ' button');\n",
              "      quickchartButtonEl.disabled = true;  // To prevent multiple clicks.\n",
              "      quickchartButtonEl.classList.add('colab-df-spinner');\n",
              "      try {\n",
              "        const charts = await google.colab.kernel.invokeFunction(\n",
              "            'suggestCharts', [key], {});\n",
              "      } catch (error) {\n",
              "        console.error('Error during call to suggestCharts:', error);\n",
              "      }\n",
              "      quickchartButtonEl.classList.remove('colab-df-spinner');\n",
              "      quickchartButtonEl.classList.add('colab-df-quickchart-complete');\n",
              "    }\n",
              "    (() => {\n",
              "      let quickchartButtonEl =\n",
              "        document.querySelector('#df-8a73d308-3388-4c10-bc03-594e9a8d75e2 button');\n",
              "      quickchartButtonEl.style.display =\n",
              "        google.colab.kernel.accessAllowed ? 'block' : 'none';\n",
              "    })();\n",
              "  </script>\n",
              "</div>\n",
              "\n",
              "    </div>\n",
              "  </div>\n"
            ],
            "application/vnd.google.colaboratory.intrinsic+json": {
              "type": "dataframe",
              "summary": "{\n  \"name\": \"data\",\n  \"rows\": 5,\n  \"fields\": [\n    {\n      \"column\": \"count\",\n      \"properties\": {\n        \"dtype\": \"number\",\n        \"std\": 0.0,\n        \"min\": 649.0,\n        \"max\": 649.0,\n        \"num_unique_values\": 1,\n        \"samples\": [\n          649.0\n        ],\n        \"semantic_type\": \"\",\n        \"description\": \"\"\n      }\n    },\n    {\n      \"column\": \"mean\",\n      \"properties\": {\n        \"dtype\": \"number\",\n        \"std\": 15596.549190614707,\n        \"min\": 2.3975346687211094,\n        \"max\": 34878.274268104775,\n        \"num_unique_values\": 5,\n        \"samples\": [\n          4.708782742681048\n        ],\n        \"semantic_type\": \"\",\n        \"description\": \"\"\n      }\n    },\n    {\n      \"column\": \"std\",\n      \"properties\": {\n        \"dtype\": \"number\",\n        \"std\": 16909.740495504368,\n        \"min\": 1.6251476929415956,\n        \"max\": 37813.73663761271,\n        \"num_unique_values\": 5,\n        \"samples\": [\n          2.1737632848282202\n        ],\n        \"semantic_type\": \"\",\n        \"description\": \"\"\n      }\n    },\n    {\n      \"column\": \"min\",\n      \"properties\": {\n        \"dtype\": \"number\",\n        \"std\": 1341.529052983945,\n        \"min\": 0.0,\n        \"max\": 3000.0,\n        \"num_unique_values\": 3,\n        \"samples\": [\n          3000.0\n        ],\n        \"semantic_type\": \"\",\n        \"description\": \"\"\n      }\n    },\n    {\n      \"column\": \"25%\",\n      \"properties\": {\n        \"dtype\": \"number\",\n        \"std\": 4918.678806346272,\n        \"min\": 1.0,\n        \"max\": 11000.0,\n        \"num_unique_values\": 3,\n        \"samples\": [\n          11000.0\n        ],\n        \"semantic_type\": \"\",\n        \"description\": \"\"\n      }\n    },\n    {\n      \"column\": \"50%\",\n      \"properties\": {\n        \"dtype\": \"number\",\n        \"std\": 8048.503171397772,\n        \"min\": 2.0,\n        \"max\": 18000.0,\n        \"num_unique_values\": 4,\n        \"samples\": [\n          5.0\n        ],\n        \"semantic_type\": \"\",\n        \"description\": \"\"\n      }\n    },\n    {\n      \"column\": \"75%\",\n      \"properties\": {\n        \"dtype\": \"number\",\n        \"std\": 21911.341930607534,\n        \"min\": 4.0,\n        \"max\": 49000.0,\n        \"num_unique_values\": 4,\n        \"samples\": [\n          6.0\n        ],\n        \"semantic_type\": \"\",\n        \"description\": \"\"\n      }\n    },\n    {\n      \"column\": \"max\",\n      \"properties\": {\n        \"dtype\": \"number\",\n        \"std\": 89438.2470339172,\n        \"min\": 5.0,\n        \"max\": 200000.0,\n        \"num_unique_values\": 4,\n        \"samples\": [\n          10.0\n        ],\n        \"semantic_type\": \"\",\n        \"description\": \"\"\n      }\n    }\n  ]\n}"
            }
          },
          "metadata": {},
          "execution_count": 12
        }
      ]
    },
    {
      "cell_type": "markdown",
      "metadata": {
        "id": "kAEzS8-GvvPI"
      },
      "source": [
        "**Observations:___________**\n",
        "* The distribution of average credit limit is heavily skewed to the right. The median is `$18,000` while the mean is `$34,878`. There is also considerable variation among the individuals' credit limits as the standard deviation is `$37,813`.\n",
        "* Half of the individuals have between 3 and 6 credit cards.\n",
        "* Individuals typically make between 1 and 4 total bank visits, with a maximum values of 10.\n",
        "* Total online visits also typically range between 1 and 4, with a maximum value of 15.\n",
        "* Individuals typically make between 1 and 5 calls to the bank, with a maximum of 10."
      ]
    },
    {
      "cell_type": "markdown",
      "metadata": {
        "id": "xUxHbmglvvPJ"
      },
      "source": [
        "#### Now let's go ahead with the exploring each variable at hand. We will check the distribution and outliers for each variable in the data. [Link to information about skewness](https://www.spss-tutorials.com/skewness/) -- optional."
      ]
    },
    {
      "cell_type": "markdown",
      "metadata": {
        "id": "YM81boKxvvPJ"
      },
      "source": [
        "### **Question 1: Data Visualizations**\n",
        "- **1.a. Check the distribution of all variables (use .hist() method)**\n",
        "- **1.b. Check outliers for all variables (use sns.boxplot())**\n",
        "- **1.c. Write some observations**"
      ]
    },
    {
      "cell_type": "code",
      "metadata": {
        "id": "TmKqRM1JvvPJ",
        "colab": {
          "base_uri": "https://localhost:8080/",
          "height": 1000
        },
        "outputId": "16a50a59-f2cf-4270-9170-8303c55ff8f1"
      },
      "source": [
        "# Code to generate visualizations\n",
        "\n",
        "for col in data.columns: # repeat these operations for each column\n",
        "    print(col)\n",
        "    print('Skew :',round(data[col].skew(),2)) # a way of measuring how much a distribution departs from a normal distribution\n",
        "    plt.figure(figsize=(15,4)) # specifying the height and width of the plot\n",
        "    plt.subplot(1,2,1) # subplot(nrows, ncols, index)\n",
        "    data[col].hist() # histogram for each column --> data[col].hist()\n",
        "    plt.ylabel('count')\n",
        "    plt.subplot(1,2,2) # subplot(nrows, ncols, index)\n",
        "    sns.boxplot(x=data[col]) #boxplot for each column --> sns.boxplot(x=data[col ])\n",
        "    plt.show()"
      ],
      "execution_count": 13,
      "outputs": [
        {
          "output_type": "stream",
          "name": "stdout",
          "text": [
            "Avg_Credit_Limit\n",
            "Skew : 2.19\n"
          ]
        },
        {
          "output_type": "display_data",
          "data": {
            "text/plain": [
              "<Figure size 1500x400 with 2 Axes>"
            ],
            "image/png": "[encoded data removed]"
          },
          "metadata": {}
        },
        {
          "output_type": "stream",
          "name": "stdout",
          "text": [
            "Total_Credit_Cards\n",
            "Skew : 0.15\n"
          ]
        },
        {
          "output_type": "display_data",
          "data": {
            "text/plain": [
              "<Figure size 1500x400 with 2 Axes>"
            ],
            "image/png": "[encoded data removed]"
          },
          "metadata": {}
        },
        {
          "output_type": "stream",
          "name": "stdout",
          "text": [
            "Total_visits_bank\n",
            "Skew : 0.15\n"
          ]
        },
        {
          "output_type": "display_data",
          "data": {
            "text/plain": [
              "<Figure size 1500x400 with 2 Axes>"
            ],
            "image/png": "[encoded data removed]"
          },
          "metadata": {}
        },
        {
          "output_type": "stream",
          "name": "stdout",
          "text": [
            "Total_visits_online\n",
            "Skew : 2.21\n"
          ]
        },
        {
          "output_type": "display_data",
          "data": {
            "text/plain": [
              "<Figure size 1500x400 with 2 Axes>"
            ],
            "image/png": "[encoded data removed]"
          },
          "metadata": {}
        },
        {
          "output_type": "stream",
          "name": "stdout",
          "text": [
            "Total_calls_made\n",
            "Skew : 0.66\n"
          ]
        },
        {
          "output_type": "display_data",
          "data": {
            "text/plain": [
              "<Figure size 1500x400 with 2 Axes>"
            ],
            "image/png": "[encoded data removed]"
          },
          "metadata": {}
        }
      ]
    },
    {
      "cell_type": "markdown",
      "metadata": {
        "id": "yuraaJ3wvvPK"
      },
      "source": [
        "**1.c. Observations:**\n",
        "- **The credit limit distribution seems to be skewed right, indicating high concentration between 0 - 25000**\n",
        "- **The average number of credit cards held is about 5**"
      ]
    },
    {
      "cell_type": "markdown",
      "metadata": {
        "id": "KGeGbF8ovvPK"
      },
      "source": [
        "**Now, let's check the correlation among different variables.**"
      ]
    },
    {
      "cell_type": "code",
      "metadata": {
        "id": "-INtorZDvvPK",
        "colab": {
          "base_uri": "https://localhost:8080/",
          "height": 796
        },
        "outputId": "3bae9f87-8188-49e1-ae9b-dae5325e5ab5"
      },
      "source": [
        "plt.figure(figsize=(8,8))\n",
        "sns.heatmap(data.corr(), annot=True, fmt='0.2f')\n",
        "plt.show()"
      ],
      "execution_count": 14,
      "outputs": [
        {
          "output_type": "display_data",
          "data": {
            "text/plain": [
              "<Figure size 800x800 with 2 Axes>"
            ],
            "image/png": "[encoded data removed]"
          },
          "metadata": {}
        }
      ]
    },
    {
      "cell_type": "markdown",
      "metadata": {
        "id": "m_rQynXTvvPL"
      },
      "source": [
        "**Observation:**\n",
        "\n",
        "- Avg_Credit_Limit is positively correlated with Total_Credit_Cards Total_visits_online which can makes sense.\n",
        "- Avg_Credit_Limit is negatively correlated with Total_calls_made and Total_visits_bank.\n",
        "- Total_visits_bank, Total_visits_online, Total_calls_made are negatively correlated which implies that majority of customers use only one of these channels to contact the bank."
      ]
    },
    {
      "cell_type": "markdown",
      "metadata": {
        "id": "XFimA8PUvvPL"
      },
      "source": [
        "#### Scaling the data"
      ]
    },
    {
      "cell_type": "code",
      "metadata": {
        "id": "TjqSX-50vvPL"
      },
      "source": [
        "scaler=StandardScaler()\n",
        "data_scaled=pd.DataFrame(scaler.fit_transform(data), columns=data.columns)"
      ],
      "execution_count": 15,
      "outputs": []
    },
    {
      "cell_type": "code",
      "metadata": {
        "id": "L2cyzdZNvvPM",
        "colab": {
          "base_uri": "https://localhost:8080/",
          "height": 206
        },
        "outputId": "674055ed-6cc9-4d11-db11-f35161a4851c"
      },
      "source": [
        "data_scaled.head()"
      ],
      "execution_count": 16,
      "outputs": [
        {
          "output_type": "execute_result",
          "data": {
            "text/plain": [
              "   Avg_Credit_Limit  Total_Credit_Cards  Total_visits_bank  \\\n",
              "0          1.723499           -1.247087          -0.860606   \n",
              "1          0.400209           -0.786701          -1.476410   \n",
              "2          0.400209            1.054846          -0.860606   \n",
              "3         -0.129107            0.134072          -0.860606   \n",
              "4          1.723499            0.594459          -1.476410   \n",
              "\n",
              "   Total_visits_online  Total_calls_made  \n",
              "0            -0.550407         -1.248443  \n",
              "1             2.499808          1.881237  \n",
              "2             0.127419          0.142526  \n",
              "3            -0.550407          0.142526  \n",
              "4             3.177634         -0.205216  "
            ],
            "text/html": [
              "\n",
              "  <div id=\"df-1909ab3e-71dd-459d-bba5-1a4f091b6e81\" class=\"colab-df-container\">\n",
              "    <div>\n",
              "<style scoped>\n",
              "    .dataframe tbody tr th:only-of-type {\n",
              "        vertical-align: middle;\n",
              "    }\n",
              "\n",
              "    .dataframe tbody tr th {\n",
              "        vertical-align: top;\n",
              "    }\n",
              "\n",
              "    .dataframe thead th {\n",
              "        text-align: right;\n",
              "    }\n",
              "</style>\n",
              "<table border=\"1\" class=\"dataframe\">\n",
              "  <thead>\n",
              "    <tr style=\"text-align: right;\">\n",
              "      <th></th>\n",
              "      <th>Avg_Credit_Limit</th>\n",
              "      <th>Total_Credit_Cards</th>\n",
              "      <th>Total_visits_bank</th>\n",
              "      <th>Total_visits_online</th>\n",
              "      <th>Total_calls_made</th>\n",
              "    </tr>\n",
              "  </thead>\n",
              "  <tbody>\n",
              "    <tr>\n",
              "      <th>0</th>\n",
              "      <td>1.723499</td>\n",
              "      <td>-1.247087</td>\n",
              "      <td>-0.860606</td>\n",
              "      <td>-0.550407</td>\n",
              "      <td>-1.248443</td>\n",
              "    </tr>\n",
              "    <tr>\n",
              "      <th>1</th>\n",
              "      <td>0.400209</td>\n",
              "      <td>-0.786701</td>\n",
              "      <td>-1.476410</td>\n",
              "      <td>2.499808</td>\n",
              "      <td>1.881237</td>\n",
              "    </tr>\n",
              "    <tr>\n",
              "      <th>2</th>\n",
              "      <td>0.400209</td>\n",
              "      <td>1.054846</td>\n",
              "      <td>-0.860606</td>\n",
              "      <td>0.127419</td>\n",
              "      <td>0.142526</td>\n",
              "    </tr>\n",
              "    <tr>\n",
              "      <th>3</th>\n",
              "      <td>-0.129107</td>\n",
              "      <td>0.134072</td>\n",
              "      <td>-0.860606</td>\n",
              "      <td>-0.550407</td>\n",
              "      <td>0.142526</td>\n",
              "    </tr>\n",
              "    <tr>\n",
              "      <th>4</th>\n",
              "      <td>1.723499</td>\n",
              "      <td>0.594459</td>\n",
              "      <td>-1.476410</td>\n",
              "      <td>3.177634</td>\n",
              "      <td>-0.205216</td>\n",
              "    </tr>\n",
              "  </tbody>\n",
              "</table>\n",
              "</div>\n",
              "    <div class=\"colab-df-buttons\">\n",
              "\n",
              "  <div class=\"colab-df-container\">\n",
              "    <button class=\"colab-df-convert\" onclick=\"convertToInteractive('df-1909ab3e-71dd-459d-bba5-1a4f091b6e81')\"\n",
              "            title=\"Convert this dataframe to an interactive table.\"\n",
              "            style=\"display:none;\">\n",
              "\n",
              "  <svg xmlns=\"http://www.w3.org/2000/svg\" height=\"24px\" viewBox=\"0 -960 960 960\">\n",
              "    <path d=\"M120-120v-720h720v720H120Zm60-500h600v-160H180v160Zm220 220h160v-160H400v160Zm0 220h160v-160H400v160ZM180-400h160v-160H180v160Zm440 0h160v-160H620v160ZM180-180h160v-160H180v160Zm440 0h160v-160H620v160Z\"/>\n",
              "  </svg>\n",
              "    </button>\n",
              "\n",
              "  <style>\n",
              "    .colab-df-container {\n",
              "      display:flex;\n",
              "      gap: 12px;\n",
              "    }\n",
              "\n",
              "    .colab-df-convert {\n",
              "      background-color: #E8F0FE;\n",
              "      border: none;\n",
              "      border-radius: 50%;\n",
              "      cursor: pointer;\n",
              "      display: none;\n",
              "      fill: #1967D2;\n",
              "      height: 32px;\n",
              "      padding: 0 0 0 0;\n",
              "      width: 32px;\n",
              "    }\n",
              "\n",
              "    .colab-df-convert:hover {\n",
              "      background-color: #E2EBFA;\n",
              "      box-shadow: 0px 1px 2px rgba(60, 64, 67, 0.3), 0px 1px 3px 1px rgba(60, 64, 67, 0.15);\n",
              "      fill: #174EA6;\n",
              "    }\n",
              "\n",
              "    .colab-df-buttons div {\n",
              "      margin-bottom: 4px;\n",
              "    }\n",
              "\n",
              "    [theme=dark] .colab-df-convert {\n",
              "      background-color: #3B4455;\n",
              "      fill: #D2E3FC;\n",
              "    }\n",
              "\n",
              "    [theme=dark] .colab-df-convert:hover {\n",
              "      background-color: #434B5C;\n",
              "      box-shadow: 0px 1px 3px 1px rgba(0, 0, 0, 0.15);\n",
              "      filter: drop-shadow(0px 1px 2px rgba(0, 0, 0, 0.3));\n",
              "      fill: #FFFFFF;\n",
              "    }\n",
              "  </style>\n",
              "\n",
              "    <script>\n",
              "      const buttonEl =\n",
              "        document.querySelector('#df-1909ab3e-71dd-459d-bba5-1a4f091b6e81 button.colab-df-convert');\n",
              "      buttonEl.style.display =\n",
              "        google.colab.kernel.accessAllowed ? 'block' : 'none';\n",
              "\n",
              "      async function convertToInteractive(key) {\n",
              "        const element = document.querySelector('#df-1909ab3e-71dd-459d-bba5-1a4f091b6e81');\n",
              "        const dataTable =\n",
              "          await google.colab.kernel.invokeFunction('convertToInteractive',\n",
              "                                                    [key], {});\n",
              "        if (!dataTable) return;\n",
              "\n",
              "        const docLinkHtml = 'Like what you see? Visit the ' +\n",
              "          '<a target=\"_blank\" href=https://colab.research.google.com/notebooks/data_table.ipynb>data table notebook</a>'\n",
              "          + ' to learn more about interactive tables.';\n",
              "        element.innerHTML = '';\n",
              "        dataTable['output_type'] = 'display_data';\n",
              "        await google.colab.output.renderOutput(dataTable, element);\n",
              "        const docLink = document.createElement('div');\n",
              "        docLink.innerHTML = docLinkHtml;\n",
              "        element.appendChild(docLink);\n",
              "      }\n",
              "    </script>\n",
              "  </div>\n",
              "\n",
              "\n",
              "<div id=\"df-3cb3c3d2-3e1d-488e-bdfb-01ae567f11d9\">\n",
              "  <button class=\"colab-df-quickchart\" onclick=\"quickchart('df-3cb3c3d2-3e1d-488e-bdfb-01ae567f11d9')\"\n",
              "            title=\"Suggest charts\"\n",
              "            style=\"display:none;\">\n",
              "\n",
              "<svg xmlns=\"http://www.w3.org/2000/svg\" height=\"24px\"viewBox=\"0 0 24 24\"\n",
              "     width=\"24px\">\n",
              "    <g>\n",
              "        <path d=\"M19 3H5c-1.1 0-2 .9-2 2v14c0 1.1.9 2 2 2h14c1.1 0 2-.9 2-2V5c0-1.1-.9-2-2-2zM9 17H7v-7h2v7zm4 0h-2V7h2v10zm4 0h-2v-4h2v4z\"/>\n",
              "    </g>\n",
              "</svg>\n",
              "  </button>\n",
              "\n",
              "<style>\n",
              "  .colab-df-quickchart {\n",
              "      --bg-color: #E8F0FE;\n",
              "      --fill-color: #1967D2;\n",
              "      --hover-bg-color: #E2EBFA;\n",
              "      --hover-fill-color: #174EA6;\n",
              "      --disabled-fill-color: #AAA;\n",
              "      --disabled-bg-color: #DDD;\n",
              "  }\n",
              "\n",
              "  [theme=dark] .colab-df-quickchart {\n",
              "      --bg-color: #3B4455;\n",
              "      --fill-color: #D2E3FC;\n",
              "      --hover-bg-color: #434B5C;\n",
              "      --hover-fill-color: #FFFFFF;\n",
              "      --disabled-bg-color: #3B4455;\n",
              "      --disabled-fill-color: #666;\n",
              "  }\n",
              "\n",
              "  .colab-df-quickchart {\n",
              "    background-color: var(--bg-color);\n",
              "    border: none;\n",
              "    border-radius: 50%;\n",
              "    cursor: pointer;\n",
              "    display: none;\n",
              "    fill: var(--fill-color);\n",
              "    height: 32px;\n",
              "    padding: 0;\n",
              "    width: 32px;\n",
              "  }\n",
              "\n",
              "  .colab-df-quickchart:hover {\n",
              "    background-color: var(--hover-bg-color);\n",
              "    box-shadow: 0 1px 2px rgba(60, 64, 67, 0.3), 0 1px 3px 1px rgba(60, 64, 67, 0.15);\n",
              "    fill: var(--button-hover-fill-color);\n",
              "  }\n",
              "\n",
              "  .colab-df-quickchart-complete:disabled,\n",
              "  .colab-df-quickchart-complete:disabled:hover {\n",
              "    background-color: var(--disabled-bg-color);\n",
              "    fill: var(--disabled-fill-color);\n",
              "    box-shadow: none;\n",
              "  }\n",
              "\n",
              "  .colab-df-spinner {\n",
              "    border: 2px solid var(--fill-color);\n",
              "    border-color: transparent;\n",
              "    border-bottom-color: var(--fill-color);\n",
              "    animation:\n",
              "      spin 1s steps(1) infinite;\n",
              "  }\n",
              "\n",
              "  @keyframes spin {\n",
              "    0% {\n",
              "      border-color: transparent;\n",
              "      border-bottom-color: var(--fill-color);\n",
              "      border-left-color: var(--fill-color);\n",
              "    }\n",
              "    20% {\n",
              "      border-color: transparent;\n",
              "      border-left-color: var(--fill-color);\n",
              "      border-top-color: var(--fill-color);\n",
              "    }\n",
              "    30% {\n",
              "      border-color: transparent;\n",
              "      border-left-color: var(--fill-color);\n",
              "      border-top-color: var(--fill-color);\n",
              "      border-right-color: var(--fill-color);\n",
              "    }\n",
              "    40% {\n",
              "      border-color: transparent;\n",
              "      border-right-color: var(--fill-color);\n",
              "      border-top-color: var(--fill-color);\n",
              "    }\n",
              "    60% {\n",
              "      border-color: transparent;\n",
              "      border-right-color: var(--fill-color);\n",
              "    }\n",
              "    80% {\n",
              "      border-color: transparent;\n",
              "      border-right-color: var(--fill-color);\n",
              "      border-bottom-color: var(--fill-color);\n",
              "    }\n",
              "    90% {\n",
              "      border-color: transparent;\n",
              "      border-bottom-color: var(--fill-color);\n",
              "    }\n",
              "  }\n",
              "</style>\n",
              "\n",
              "  <script>\n",
              "    async function quickchart(key) {\n",
              "      const quickchartButtonEl =\n",
              "        document.querySelector('#' + key + ' button');\n",
              "      quickchartButtonEl.disabled = true;  // To prevent multiple clicks.\n",
              "      quickchartButtonEl.classList.add('colab-df-spinner');\n",
              "      try {\n",
              "        const charts = await google.colab.kernel.invokeFunction(\n",
              "            'suggestCharts', [key], {});\n",
              "      } catch (error) {\n",
              "        console.error('Error during call to suggestCharts:', error);\n",
              "      }\n",
              "      quickchartButtonEl.classList.remove('colab-df-spinner');\n",
              "      quickchartButtonEl.classList.add('colab-df-quickchart-complete');\n",
              "    }\n",
              "    (() => {\n",
              "      let quickchartButtonEl =\n",
              "        document.querySelector('#df-3cb3c3d2-3e1d-488e-bdfb-01ae567f11d9 button');\n",
              "      quickchartButtonEl.style.display =\n",
              "        google.colab.kernel.accessAllowed ? 'block' : 'none';\n",
              "    })();\n",
              "  </script>\n",
              "</div>\n",
              "\n",
              "    </div>\n",
              "  </div>\n"
            ],
            "application/vnd.google.colaboratory.intrinsic+json": {
              "type": "dataframe",
              "variable_name": "data_scaled",
              "summary": "{\n  \"name\": \"data_scaled\",\n  \"rows\": 649,\n  \"fields\": [\n    {\n      \"column\": \"Avg_Credit_Limit\",\n      \"properties\": {\n        \"dtype\": \"number\",\n        \"std\": 1.0007713074806563,\n        \"min\": -0.8436844664482304,\n        \"max\": 4.370080823744897,\n        \"num_unique_values\": 110,\n        \"samples\": [\n          3.7349012960056323,\n          -0.6848895845134143,\n          -0.5260947025785983\n        ],\n        \"semantic_type\": \"\",\n        \"description\": \"\"\n      }\n    },\n    {\n      \"column\": \"Total_Credit_Cards\",\n      \"properties\": {\n        \"dtype\": \"number\",\n        \"std\": 1.0007713074806577,\n        \"min\": -1.707473569206007,\n        \"max\": 2.4360050837779097,\n        \"num_unique_values\": 10,\n        \"samples\": [\n          1.5152320497814837,\n          -0.786700535209581,\n          -0.32631401821136813\n        ],\n        \"semantic_type\": \"\",\n        \"description\": \"\"\n      }\n    },\n    {\n      \"column\": \"Total_visits_bank\",\n      \"properties\": {\n        \"dtype\": \"number\",\n        \"std\": 1.0007713074806588,\n        \"min\": -1.4764097537518144,\n        \"max\": 1.602606731418261,\n        \"num_unique_values\": 6,\n        \"samples\": [\n          -0.8606064567177992,\n          -1.4764097537518144,\n          0.986803434384246\n        ],\n        \"semantic_type\": \"\",\n        \"description\": \"\"\n      }\n    },\n    {\n      \"column\": \"Total_visits_online\",\n      \"properties\": {\n        \"dtype\": \"number\",\n        \"std\": 1.000771307480656,\n        \"min\": -0.8893196537420154,\n        \"max\": 4.1943719664450185,\n        \"num_unique_values\": 16,\n        \"samples\": [\n          -0.5504068790628798,\n          2.499808093049341,\n          -0.2114941043837441\n        ],\n        \"semantic_type\": \"\",\n        \"description\": \"\"\n      }\n    },\n    {\n      \"column\": \"Total_calls_made\",\n      \"properties\": {\n        \"dtype\": \"number\",\n        \"std\": 1.0007713074806566,\n        \"min\": -1.2484429755519435,\n        \"max\": 2.228979733174285,\n        \"num_unique_values\": 11,\n        \"samples\": [\n          -0.5529584338066977,\n          -1.2484429755519435,\n          0.8380106496837937\n        ],\n        \"semantic_type\": \"\",\n        \"description\": \"\"\n      }\n    }\n  ]\n}"
            }
          },
          "metadata": {},
          "execution_count": 16
        }
      ]
    },
    {
      "cell_type": "code",
      "metadata": {
        "id": "3ESvHP6SvvPM"
      },
      "source": [
        "#Creating copy of the data to store labels from each algorithm\n",
        "data_scaled_copy = data_scaled.copy(deep=True)"
      ],
      "execution_count": 17,
      "outputs": []
    },
    {
      "cell_type": "markdown",
      "metadata": {
        "id": "1lVGJ-HRvvPN"
      },
      "source": [
        "## K-Means"
      ]
    },
    {
      "cell_type": "markdown",
      "metadata": {
        "id": "JCT1SB7_vvPN"
      },
      "source": [
        "Let us now fit k-means algorithm on our scaled data and find out the optimum number of clusters to use.\n",
        "\n",
        "We will do this in 3 steps:\n",
        "1. Initialize a dictionary to store the SSE for each k\n",
        "2. Run for a range of Ks and store SSE for each run\n",
        "3. Plot the SSE vs K and find the elbow"
      ]
    },
    {
      "cell_type": "markdown",
      "source": [
        "The K-means algorithm aims to choose centroids that minimize the inertia, or within-cluster sum-of-squares criterion. Inertia can be recognized as a measure of how internally coherent clusters are.\n",
        "\n",
        "![image](https://drive.google.com/uc?id=1cbPD8xheowR5D2ojiwb2zBWafRDUtEic)\n",
        "\n",
        "This is what the KMeans tries to minimize with each iteration."
      ],
      "metadata": {
        "id": "e_BsE_21fEFb"
      }
    },
    {
      "cell_type": "code",
      "metadata": {
        "id": "HkQWkpSovvPN",
        "colab": {
          "base_uri": "https://localhost:8080/",
          "height": 449
        },
        "outputId": "74389f08-bca9-4063-dd22-95ee49077b3d"
      },
      "source": [
        "# step 1\n",
        "sse = {} # creates an empty dictionary\n",
        "\n",
        "# step 2 - iterate for a range of Ks and fit the scaled data to the algorithm. Use inertia attribute from the clustering object and\n",
        "# store the inertia value for that k\n",
        "for k in range(1, 10):\n",
        "    kmeans = KMeans(n_clusters=k, max_iter=1000, random_state=1).fit(data_scaled)\n",
        "    sse[k] = kmeans.inertia_\n",
        "\n",
        "# step 3\n",
        "plt.figure()\n",
        "plt.plot(list(sse.keys()), list(sse.values()), 'bx-')\n",
        "plt.xlabel(\"Number of cluster\")\n",
        "plt.ylabel(\"SSE\")\n",
        "plt.show()"
      ],
      "execution_count": 18,
      "outputs": [
        {
          "output_type": "display_data",
          "data": {
            "text/plain": [
              "<Figure size 640x480 with 1 Axes>"
            ],
            "image/png": "[encoded data removed]"
          },
          "metadata": {}
        }
      ]
    },
    {
      "cell_type": "markdown",
      "metadata": {
        "id": "wYIbRxO2vvPO"
      },
      "source": [
        "- Looking at the plot, we can say that elbow point is achieved for k=3.\n",
        "- We will fit the k-means again with k=3 to get the labels."
      ]
    },
    {
      "cell_type": "markdown",
      "metadata": {
        "id": "mYdAYWNNvvPO"
      },
      "source": [
        "### **Question 2: K_Means Decisions**\n",
        "\n",
        "- **2.a. From the above elbow plot, state the reason for choosing k=3**\n",
        "\n",
        "- **This is the point where the curve stats to flattenout indicating the ideal k value**\n",
        "\n",
        "- **2.b. Explain why we need to use scaled data when determining clusters through the K_means method**\n",
        "\n",
        "- **Because the method relies on the distance between data points to assign clusters. If the data is not scaled, features with larger ranges can disproportionately influence the clustering process, leading to biased results.**"
      ]
    },
    {
      "cell_type": "code",
      "metadata": {
        "id": "bkeg6XsBvvPO"
      },
      "source": [
        "kmeans = KMeans(n_clusters=3, random_state=1) #Apply the K-Means algorithm\n",
        "\n",
        "kmeans.fit(data_scaled) #Fit the kmeans function on the scaled data\n",
        "\n",
        "#Adding predicted labels to the original data and scaled data\n",
        "data_scaled_copy['Labels'] = kmeans.predict(data_scaled) #Save the predictions on the scaled data from K-Means\n",
        "data['Labels'] = kmeans.predict(data_scaled) #Save the predictions on the scaled data from K-Means"
      ],
      "execution_count": 20,
      "outputs": []
    },
    {
      "cell_type": "markdown",
      "metadata": {
        "id": "9SPMPRF1vvPP"
      },
      "source": [
        "We have generated the labels with k-means. Let us look at the various features based on the labels."
      ]
    },
    {
      "cell_type": "markdown",
      "metadata": {
        "id": "tuLEkmr1vvPQ"
      },
      "source": [
        "#### **Create cluster profiles using the below summary statistics and box plots for each label**"
      ]
    },
    {
      "cell_type": "code",
      "metadata": {
        "id": "DDqfjsfl2lew",
        "colab": {
          "base_uri": "https://localhost:8080/",
          "height": 209
        },
        "outputId": "92bd62c7-ef16-4756-b4ce-21c2a327a48e"
      },
      "source": [
        "#Number of observations in each cluster\n",
        "data.Labels.value_counts()"
      ],
      "execution_count": 21,
      "outputs": [
        {
          "output_type": "execute_result",
          "data": {
            "text/plain": [
              "Labels\n",
              "0    378\n",
              "1    221\n",
              "2     50\n",
              "Name: count, dtype: int64"
            ],
            "text/html": [
              "<div>\n",
              "<style scoped>\n",
              "    .dataframe tbody tr th:only-of-type {\n",
              "        vertical-align: middle;\n",
              "    }\n",
              "\n",
              "    .dataframe tbody tr th {\n",
              "        vertical-align: top;\n",
              "    }\n",
              "\n",
              "    .dataframe thead th {\n",
              "        text-align: right;\n",
              "    }\n",
              "</style>\n",
              "<table border=\"1\" class=\"dataframe\">\n",
              "  <thead>\n",
              "    <tr style=\"text-align: right;\">\n",
              "      <th></th>\n",
              "      <th>count</th>\n",
              "    </tr>\n",
              "    <tr>\n",
              "      <th>Labels</th>\n",
              "      <th></th>\n",
              "    </tr>\n",
              "  </thead>\n",
              "  <tbody>\n",
              "    <tr>\n",
              "      <th>0</th>\n",
              "      <td>378</td>\n",
              "    </tr>\n",
              "    <tr>\n",
              "      <th>1</th>\n",
              "      <td>221</td>\n",
              "    </tr>\n",
              "    <tr>\n",
              "      <th>2</th>\n",
              "      <td>50</td>\n",
              "    </tr>\n",
              "  </tbody>\n",
              "</table>\n",
              "</div><br><label><b>dtype:</b> int64</label>"
            ]
          },
          "metadata": {},
          "execution_count": 21
        }
      ]
    },
    {
      "cell_type": "code",
      "metadata": {
        "id": "eu7EO0nn2lex",
        "colab": {
          "base_uri": "https://localhost:8080/",
          "height": 206
        },
        "outputId": "30ca6a7a-d839-4b11-d20e-da5d9ce47c50"
      },
      "source": [
        "#Calculating summary statistics of the original data for each label\n",
        "mean = data.groupby('Labels').mean()\n",
        "median = data.groupby('Labels').median()\n",
        "df_kmeans = pd.concat([mean, median], axis=0)\n",
        "df_kmeans.index = ['group_0 Mean', 'group_1 Mean', 'group_2 Mean', 'group_0 Median', 'group_1 Median', 'group_2 Median']\n",
        "df_kmeans.T"
      ],
      "execution_count": 22,
      "outputs": [
        {
          "output_type": "execute_result",
          "data": {
            "text/plain": [
              "                     group_0 Mean  group_1 Mean  group_2 Mean  group_0 Median  \\\n",
              "Avg_Credit_Limit     34071.428571  12239.819005     141040.00         32000.0   \n",
              "Total_Credit_Cards       5.518519      2.411765          8.74             6.0   \n",
              "Total_visits_bank        3.484127      0.945701          0.60             3.0   \n",
              "Total_visits_online      0.981481      3.561086         10.90             1.0   \n",
              "Total_calls_made         1.992063      6.891403          1.08             2.0   \n",
              "\n",
              "                     group_1 Median  group_2 Median  \n",
              "Avg_Credit_Limit            12000.0        145500.0  \n",
              "Total_Credit_Cards              2.0             9.0  \n",
              "Total_visits_bank               1.0             1.0  \n",
              "Total_visits_online             4.0            11.0  \n",
              "Total_calls_made                7.0             1.0  "
            ],
            "text/html": [
              "\n",
              "  <div id=\"df-f9b4a516-e498-4f75-8421-5e41320dca22\" class=\"colab-df-container\">\n",
              "    <div>\n",
              "<style scoped>\n",
              "    .dataframe tbody tr th:only-of-type {\n",
              "        vertical-align: middle;\n",
              "    }\n",
              "\n",
              "    .dataframe tbody tr th {\n",
              "        vertical-align: top;\n",
              "    }\n",
              "\n",
              "    .dataframe thead th {\n",
              "        text-align: right;\n",
              "    }\n",
              "</style>\n",
              "<table border=\"1\" class=\"dataframe\">\n",
              "  <thead>\n",
              "    <tr style=\"text-align: right;\">\n",
              "      <th></th>\n",
              "      <th>group_0 Mean</th>\n",
              "      <th>group_1 Mean</th>\n",
              "      <th>group_2 Mean</th>\n",
              "      <th>group_0 Median</th>\n",
              "      <th>group_1 Median</th>\n",
              "      <th>group_2 Median</th>\n",
              "    </tr>\n",
              "  </thead>\n",
              "  <tbody>\n",
              "    <tr>\n",
              "      <th>Avg_Credit_Limit</th>\n",
              "      <td>34071.428571</td>\n",
              "      <td>12239.819005</td>\n",
              "      <td>141040.00</td>\n",
              "      <td>32000.0</td>\n",
              "      <td>12000.0</td>\n",
              "      <td>145500.0</td>\n",
              "    </tr>\n",
              "    <tr>\n",
              "      <th>Total_Credit_Cards</th>\n",
              "      <td>5.518519</td>\n",
              "      <td>2.411765</td>\n",
              "      <td>8.74</td>\n",
              "      <td>6.0</td>\n",
              "      <td>2.0</td>\n",
              "      <td>9.0</td>\n",
              "    </tr>\n",
              "    <tr>\n",
              "      <th>Total_visits_bank</th>\n",
              "      <td>3.484127</td>\n",
              "      <td>0.945701</td>\n",
              "      <td>0.60</td>\n",
              "      <td>3.0</td>\n",
              "      <td>1.0</td>\n",
              "      <td>1.0</td>\n",
              "    </tr>\n",
              "    <tr>\n",
              "      <th>Total_visits_online</th>\n",
              "      <td>0.981481</td>\n",
              "      <td>3.561086</td>\n",
              "      <td>10.90</td>\n",
              "      <td>1.0</td>\n",
              "      <td>4.0</td>\n",
              "      <td>11.0</td>\n",
              "    </tr>\n",
              "    <tr>\n",
              "      <th>Total_calls_made</th>\n",
              "      <td>1.992063</td>\n",
              "      <td>6.891403</td>\n",
              "      <td>1.08</td>\n",
              "      <td>2.0</td>\n",
              "      <td>7.0</td>\n",
              "      <td>1.0</td>\n",
              "    </tr>\n",
              "  </tbody>\n",
              "</table>\n",
              "</div>\n",
              "    <div class=\"colab-df-buttons\">\n",
              "\n",
              "  <div class=\"colab-df-container\">\n",
              "    <button class=\"colab-df-convert\" onclick=\"convertToInteractive('df-f9b4a516-e498-4f75-8421-5e41320dca22')\"\n",
              "            title=\"Convert this dataframe to an interactive table.\"\n",
              "            style=\"display:none;\">\n",
              "\n",
              "  <svg xmlns=\"http://www.w3.org/2000/svg\" height=\"24px\" viewBox=\"0 -960 960 960\">\n",
              "    <path d=\"M120-120v-720h720v720H120Zm60-500h600v-160H180v160Zm220 220h160v-160H400v160Zm0 220h160v-160H400v160ZM180-400h160v-160H180v160Zm440 0h160v-160H620v160ZM180-180h160v-160H180v160Zm440 0h160v-160H620v160Z\"/>\n",
              "  </svg>\n",
              "    </button>\n",
              "\n",
              "  <style>\n",
              "    .colab-df-container {\n",
              "      display:flex;\n",
              "      gap: 12px;\n",
              "    }\n",
              "\n",
              "    .colab-df-convert {\n",
              "      background-color: #E8F0FE;\n",
              "      border: none;\n",
              "      border-radius: 50%;\n",
              "      cursor: pointer;\n",
              "      display: none;\n",
              "      fill: #1967D2;\n",
              "      height: 32px;\n",
              "      padding: 0 0 0 0;\n",
              "      width: 32px;\n",
              "    }\n",
              "\n",
              "    .colab-df-convert:hover {\n",
              "      background-color: #E2EBFA;\n",
              "      box-shadow: 0px 1px 2px rgba(60, 64, 67, 0.3), 0px 1px 3px 1px rgba(60, 64, 67, 0.15);\n",
              "      fill: #174EA6;\n",
              "    }\n",
              "\n",
              "    .colab-df-buttons div {\n",
              "      margin-bottom: 4px;\n",
              "    }\n",
              "\n",
              "    [theme=dark] .colab-df-convert {\n",
              "      background-color: #3B4455;\n",
              "      fill: #D2E3FC;\n",
              "    }\n",
              "\n",
              "    [theme=dark] .colab-df-convert:hover {\n",
              "      background-color: #434B5C;\n",
              "      box-shadow: 0px 1px 3px 1px rgba(0, 0, 0, 0.15);\n",
              "      filter: drop-shadow(0px 1px 2px rgba(0, 0, 0, 0.3));\n",
              "      fill: #FFFFFF;\n",
              "    }\n",
              "  </style>\n",
              "\n",
              "    <script>\n",
              "      const buttonEl =\n",
              "        document.querySelector('#df-f9b4a516-e498-4f75-8421-5e41320dca22 button.colab-df-convert');\n",
              "      buttonEl.style.display =\n",
              "        google.colab.kernel.accessAllowed ? 'block' : 'none';\n",
              "\n",
              "      async function convertToInteractive(key) {\n",
              "        const element = document.querySelector('#df-f9b4a516-e498-4f75-8421-5e41320dca22');\n",
              "        const dataTable =\n",
              "          await google.colab.kernel.invokeFunction('convertToInteractive',\n",
              "                                                    [key], {});\n",
              "        if (!dataTable) return;\n",
              "\n",
              "        const docLinkHtml = 'Like what you see? Visit the ' +\n",
              "          '<a target=\"_blank\" href=https://colab.research.google.com/notebooks/data_table.ipynb>data table notebook</a>'\n",
              "          + ' to learn more about interactive tables.';\n",
              "        element.innerHTML = '';\n",
              "        dataTable['output_type'] = 'display_data';\n",
              "        await google.colab.output.renderOutput(dataTable, element);\n",
              "        const docLink = document.createElement('div');\n",
              "        docLink.innerHTML = docLinkHtml;\n",
              "        element.appendChild(docLink);\n",
              "      }\n",
              "    </script>\n",
              "  </div>\n",
              "\n",
              "\n",
              "<div id=\"df-9df4aaab-3aeb-4f81-889b-fe54764d3a09\">\n",
              "  <button class=\"colab-df-quickchart\" onclick=\"quickchart('df-9df4aaab-3aeb-4f81-889b-fe54764d3a09')\"\n",
              "            title=\"Suggest charts\"\n",
              "            style=\"display:none;\">\n",
              "\n",
              "<svg xmlns=\"http://www.w3.org/2000/svg\" height=\"24px\"viewBox=\"0 0 24 24\"\n",
              "     width=\"24px\">\n",
              "    <g>\n",
              "        <path d=\"M19 3H5c-1.1 0-2 .9-2 2v14c0 1.1.9 2 2 2h14c1.1 0 2-.9 2-2V5c0-1.1-.9-2-2-2zM9 17H7v-7h2v7zm4 0h-2V7h2v10zm4 0h-2v-4h2v4z\"/>\n",
              "    </g>\n",
              "</svg>\n",
              "  </button>\n",
              "\n",
              "<style>\n",
              "  .colab-df-quickchart {\n",
              "      --bg-color: #E8F0FE;\n",
              "      --fill-color: #1967D2;\n",
              "      --hover-bg-color: #E2EBFA;\n",
              "      --hover-fill-color: #174EA6;\n",
              "      --disabled-fill-color: #AAA;\n",
              "      --disabled-bg-color: #DDD;\n",
              "  }\n",
              "\n",
              "  [theme=dark] .colab-df-quickchart {\n",
              "      --bg-color: #3B4455;\n",
              "      --fill-color: #D2E3FC;\n",
              "      --hover-bg-color: #434B5C;\n",
              "      --hover-fill-color: #FFFFFF;\n",
              "      --disabled-bg-color: #3B4455;\n",
              "      --disabled-fill-color: #666;\n",
              "  }\n",
              "\n",
              "  .colab-df-quickchart {\n",
              "    background-color: var(--bg-color);\n",
              "    border: none;\n",
              "    border-radius: 50%;\n",
              "    cursor: pointer;\n",
              "    display: none;\n",
              "    fill: var(--fill-color);\n",
              "    height: 32px;\n",
              "    padding: 0;\n",
              "    width: 32px;\n",
              "  }\n",
              "\n",
              "  .colab-df-quickchart:hover {\n",
              "    background-color: var(--hover-bg-color);\n",
              "    box-shadow: 0 1px 2px rgba(60, 64, 67, 0.3), 0 1px 3px 1px rgba(60, 64, 67, 0.15);\n",
              "    fill: var(--button-hover-fill-color);\n",
              "  }\n",
              "\n",
              "  .colab-df-quickchart-complete:disabled,\n",
              "  .colab-df-quickchart-complete:disabled:hover {\n",
              "    background-color: var(--disabled-bg-color);\n",
              "    fill: var(--disabled-fill-color);\n",
              "    box-shadow: none;\n",
              "  }\n",
              "\n",
              "  .colab-df-spinner {\n",
              "    border: 2px solid var(--fill-color);\n",
              "    border-color: transparent;\n",
              "    border-bottom-color: var(--fill-color);\n",
              "    animation:\n",
              "      spin 1s steps(1) infinite;\n",
              "  }\n",
              "\n",
              "  @keyframes spin {\n",
              "    0% {\n",
              "      border-color: transparent;\n",
              "      border-bottom-color: var(--fill-color);\n",
              "      border-left-color: var(--fill-color);\n",
              "    }\n",
              "    20% {\n",
              "      border-color: transparent;\n",
              "      border-left-color: var(--fill-color);\n",
              "      border-top-color: var(--fill-color);\n",
              "    }\n",
              "    30% {\n",
              "      border-color: transparent;\n",
              "      border-left-color: var(--fill-color);\n",
              "      border-top-color: var(--fill-color);\n",
              "      border-right-color: var(--fill-color);\n",
              "    }\n",
              "    40% {\n",
              "      border-color: transparent;\n",
              "      border-right-color: var(--fill-color);\n",
              "      border-top-color: var(--fill-color);\n",
              "    }\n",
              "    60% {\n",
              "      border-color: transparent;\n",
              "      border-right-color: var(--fill-color);\n",
              "    }\n",
              "    80% {\n",
              "      border-color: transparent;\n",
              "      border-right-color: var(--fill-color);\n",
              "      border-bottom-color: var(--fill-color);\n",
              "    }\n",
              "    90% {\n",
              "      border-color: transparent;\n",
              "      border-bottom-color: var(--fill-color);\n",
              "    }\n",
              "  }\n",
              "</style>\n",
              "\n",
              "  <script>\n",
              "    async function quickchart(key) {\n",
              "      const quickchartButtonEl =\n",
              "        document.querySelector('#' + key + ' button');\n",
              "      quickchartButtonEl.disabled = true;  // To prevent multiple clicks.\n",
              "      quickchartButtonEl.classList.add('colab-df-spinner');\n",
              "      try {\n",
              "        const charts = await google.colab.kernel.invokeFunction(\n",
              "            'suggestCharts', [key], {});\n",
              "      } catch (error) {\n",
              "        console.error('Error during call to suggestCharts:', error);\n",
              "      }\n",
              "      quickchartButtonEl.classList.remove('colab-df-spinner');\n",
              "      quickchartButtonEl.classList.add('colab-df-quickchart-complete');\n",
              "    }\n",
              "    (() => {\n",
              "      let quickchartButtonEl =\n",
              "        document.querySelector('#df-9df4aaab-3aeb-4f81-889b-fe54764d3a09 button');\n",
              "      quickchartButtonEl.style.display =\n",
              "        google.colab.kernel.accessAllowed ? 'block' : 'none';\n",
              "    })();\n",
              "  </script>\n",
              "</div>\n",
              "\n",
              "    </div>\n",
              "  </div>\n"
            ],
            "application/vnd.google.colaboratory.intrinsic+json": {
              "type": "dataframe",
              "summary": "{\n  \"name\": \"df_kmeans\",\n  \"rows\": 5,\n  \"fields\": [\n    {\n      \"column\": \"group_0 Mean\",\n      \"properties\": {\n        \"dtype\": \"number\",\n        \"std\": 15235.867192171925,\n        \"min\": 0.9814814814814815,\n        \"max\": 34071.42857142857,\n        \"num_unique_values\": 5,\n        \"samples\": [\n          5.518518518518518,\n          1.992063492063492,\n          3.484126984126984\n        ],\n        \"semantic_type\": \"\",\n        \"description\": \"\"\n      }\n    },\n    {\n      \"column\": \"group_1 Mean\",\n      \"properties\": {\n        \"dtype\": \"number\",\n        \"std\": 5472.269904092171,\n        \"min\": 0.9457013574660633,\n        \"max\": 12239.819004524887,\n        \"num_unique_values\": 5,\n        \"samples\": [\n          2.411764705882353,\n          6.891402714932127,\n          0.9457013574660633\n        ],\n        \"semantic_type\": \"\",\n        \"description\": \"\"\n      }\n    },\n    {\n      \"column\": \"group_2 Mean\",\n      \"properties\": {\n        \"dtype\": \"number\",\n        \"std\": 63072.62202551817,\n        \"min\": 0.6,\n        \"max\": 141040.0,\n        \"num_unique_values\": 5,\n        \"samples\": [\n          8.74,\n          1.08,\n          0.6\n        ],\n        \"semantic_type\": \"\",\n        \"description\": \"\"\n      }\n    },\n    {\n      \"column\": \"group_0 Median\",\n      \"properties\": {\n        \"dtype\": \"number\",\n        \"std\": 14309.493537508586,\n        \"min\": 1.0,\n        \"max\": 32000.0,\n        \"num_unique_values\": 5,\n        \"samples\": [\n          6.0,\n          2.0,\n          3.0\n        ],\n        \"semantic_type\": \"\",\n        \"description\": \"\"\n      }\n    },\n    {\n      \"column\": \"group_1 Median\",\n      \"properties\": {\n        \"dtype\": \"number\",\n        \"std\": 5364.998387697801,\n        \"min\": 1.0,\n        \"max\": 12000.0,\n        \"num_unique_values\": 5,\n        \"samples\": [\n          2.0,\n          7.0,\n          1.0\n        ],\n        \"semantic_type\": \"\",\n        \"description\": \"\"\n      }\n    },\n    {\n      \"column\": \"group_2 Median\",\n      \"properties\": {\n        \"dtype\": \"number\",\n        \"std\": 65067.118629919365,\n        \"min\": 1.0,\n        \"max\": 145500.0,\n        \"num_unique_values\": 4,\n        \"samples\": [\n          9.0,\n          11.0,\n          145500.0\n        ],\n        \"semantic_type\": \"\",\n        \"description\": \"\"\n      }\n    }\n  ]\n}"
            }
          },
          "metadata": {},
          "execution_count": 22
        }
      ]
    },
    {
      "cell_type": "code",
      "metadata": {
        "id": "bTnGIXvWvvPQ",
        "colab": {
          "base_uri": "https://localhost:8080/",
          "height": 661
        },
        "outputId": "48c08e88-adac-4e4d-9173-e6af00cdcfc2"
      },
      "source": [
        "#Visualizing different features w.r.t K-means labels\n",
        "data_scaled_copy.boxplot(by = 'Labels', layout = (1,6),figsize=(20,7))\n",
        "plt.show()"
      ],
      "execution_count": 23,
      "outputs": [
        {
          "output_type": "display_data",
          "data": {
            "text/plain": [
              "<Figure size 2000x700 with 6 Axes>"
            ],
            "image/png": "[encoded data removed]"
          },
          "metadata": {}
        }
      ]
    },
    {
      "cell_type": "markdown",
      "metadata": {
        "id": "nadx5OyGvvPR"
      },
      "source": [
        "### **Question 3: Describe the Cluster Profiles based on the statistical summary and the boxplots**\n",
        "\n",
        "* **Cluster 0 high total bank visits**\n",
        "\n",
        "* **Cluster 1 high calls made, and less credit limit and credit card holdings**\n",
        "\n",
        "* **Cluster 2 High credit limit and total online visits**"
      ]
    },
    {
      "cell_type": "markdown",
      "source": [
        "## OPTIONAL CONTENT BELOW THIS LINE\n",
        "-------------------------------------------------------"
      ],
      "metadata": {
        "id": "Lg7bg74riCAe"
      }
    },
    {
      "cell_type": "markdown",
      "metadata": {
        "id": "B02j8pGUvvPS"
      },
      "source": [
        "## Gaussian Mixture"
      ]
    },
    {
      "cell_type": "markdown",
      "metadata": {
        "id": "qYBGfwaVvvPS"
      },
      "source": [
        "Let's create clusters using Gaussian Mixture Models"
      ]
    },
    {
      "cell_type": "markdown",
      "metadata": {
        "id": "r0N7Ss06vvPS"
      },
      "source": [
        "#### Using Gaussian Mixture Algorithem:\n",
        "\n",
        "- **Apply the Gaussian Mixture algorithm on the scaled data with random_state=1**\n",
        "- **Create cluster profiles using the below summary statistics and box plots for each label**\n",
        "- **Compare the clusters from both algorithms - K-means and Gaussian Mixture**"
      ]
    },
    {
      "cell_type": "code",
      "metadata": {
        "id": "fBHzul_PvvPS"
      },
      "source": [
        "gmm = GaussianMixture(n_components = 3, random_state = 1) #Apply the Gaussian Mixture algorithm\n",
        "gmm.fit(data_scaled) #Fit the gmm function on the scaled data\n",
        "\n",
        "data_scaled_copy['GmmLabels'] = gmm.predict(data_scaled)\n",
        "data['GmmLabels'] = gmm.predict(data_scaled)"
      ],
      "execution_count": null,
      "outputs": []
    },
    {
      "cell_type": "code",
      "metadata": {
        "id": "vBtCZOQB2ley"
      },
      "source": [
        "#Number of observations in each cluster\n",
        "data.GmmLabels.value_counts()"
      ],
      "execution_count": null,
      "outputs": []
    },
    {
      "cell_type": "code",
      "metadata": {
        "id": "m21wTqIgvvPT"
      },
      "source": [
        "#Calculating summary statistics of the original data for each label\n",
        "original_features = [\"Avg_Credit_Limit\",\"Total_Credit_Cards\",\"Total_visits_bank\",\"Total_visits_online\",\"Total_calls_made\"]\n",
        "\n",
        "mean = data.groupby('GmmLabels').mean()\n",
        "median = data.groupby('GmmLabels').median()\n",
        "df_gmm = pd.concat([mean, median], axis=0)\n",
        "df_gmm.index = ['group_0 Mean', 'group_1 Mean', 'group_2 Mean', 'group_0 Median', 'group_1 Median', 'group_2 Median']\n",
        "df_gmm[original_features].T"
      ],
      "execution_count": null,
      "outputs": []
    },
    {
      "cell_type": "code",
      "metadata": {
        "id": "CuJf3MeOvvPT"
      },
      "source": [
        "# plotting boxplots with the new GMM based labels\n",
        "\n",
        "features_with_lables = [\"Avg_Credit_Limit\",\"Total_Credit_Cards\",\"Total_visits_bank\",\"Total_visits_online\",\"Total_calls_made\",\"GmmLabels\"]\n",
        "\n",
        "data_scaled_copy[features_with_lables].boxplot(by = 'GmmLabels', layout = (1,5),figsize=(20,7))\n",
        "plt.show()"
      ],
      "execution_count": null,
      "outputs": []
    },
    {
      "cell_type": "markdown",
      "metadata": {
        "id": "EHA5nl2yvvPU"
      },
      "source": [
        "**Cluster Profiles:____________**  \n",
        "* Cluster 0 includes individuals who have a low average credit limit, very few or no credit cards and use the phone as the primary method to contact the bank.\n",
        "* Cluster 1 reflects average credit limits and average number of credit cards and a tendency to contact the bank in person.\n",
        "* Cluster 2 Shows very high averge credit limit, high count of credit cards and a tendency to use online bank services.\n",
        "\n",
        "**Comparing Clusters:____________**  \n",
        "The results obtained with the Gaussian Mixture method are similar to those generated by the application of the K-Means algorithm."
      ]
    },
    {
      "cell_type": "markdown",
      "metadata": {
        "id": "ixzPPJG6vvPV"
      },
      "source": [
        "## K-Medoids"
      ]
    },
    {
      "cell_type": "markdown",
      "metadata": {
        "id": "PpPxOxvmvvPW"
      },
      "source": [
        "### Using the K-Medioids Algorithm\n",
        "\n",
        "- **Apply the K-Medioids on the scaled data with random_state=1**\n",
        "- **Create cluster profiles using the below summary statistics and box plots for each label**\n",
        "- **Compare the clusters from both algorithms - K-Means and K-Medioids**"
      ]
    },
    {
      "cell_type": "code",
      "metadata": {
        "id": "UxuTu1JF48hA"
      },
      "source": [
        "kmedo = KMedoids(n_clusters = 3, random_state=1) #Apply the K-Medoids algorithm\n",
        "kmedo.fit(data_scaled) #Fit the kmedo function on the scaled data\n",
        "\n",
        "data_scaled_copy['kmedoLabels'] = kmedo.predict(data_scaled)\n",
        "data['kmedoLabels'] = kmedo.predict(data_scaled)"
      ],
      "execution_count": null,
      "outputs": []
    },
    {
      "cell_type": "code",
      "metadata": {
        "id": "9t6hVMWs2lez"
      },
      "source": [
        "#Number of observations in each cluster\n",
        "data.kmedoLabels.value_counts()"
      ],
      "execution_count": null,
      "outputs": []
    },
    {
      "cell_type": "code",
      "metadata": {
        "id": "FvKJ9rrzvvPW"
      },
      "source": [
        "#Calculating summary statistics of the original data for each label\n",
        "mean = data.groupby('kmedoLabels').mean()\n",
        "median = data.groupby('kmedoLabels').median()\n",
        "df_kmedoids = pd.concat([mean, median], axis=0)\n",
        "df_kmedoids.index = ['group_0 Mean', 'group_1 Mean', 'group_2 Mean', 'group_0 Median', 'group_1 Median', 'group_2 Median']\n",
        "df_kmedoids[original_features].T"
      ],
      "execution_count": null,
      "outputs": []
    },
    {
      "cell_type": "code",
      "metadata": {
        "id": "eWdxV2rLvvPX"
      },
      "source": [
        "#plotting boxplots with the new DBScan based labels\n",
        "\n",
        "features_with_lables = [\"Avg_Credit_Limit\",\t\"Total_Credit_Cards\",\"Total_visits_bank\",\"Total_visits_online\",\"Total_calls_made\",\"kmedoLabels\"]\n",
        "\n",
        "data_scaled_copy[features_with_lables].boxplot(by = 'kmedoLabels', layout = (1,5),figsize=(20,7))\n",
        "plt.show()"
      ],
      "execution_count": null,
      "outputs": []
    },
    {
      "cell_type": "markdown",
      "metadata": {
        "id": "B_MtSZkr2le0"
      },
      "source": [
        "Let's compare the clusters from K-Means and K-Medoids"
      ]
    },
    {
      "cell_type": "code",
      "metadata": {
        "id": "l1gebsJ_2le0"
      },
      "source": [
        "comparison = pd.concat([df_kmedoids, df_kmeans], axis=1)[original_features]\n",
        "comparison"
      ],
      "execution_count": null,
      "outputs": []
    },
    {
      "cell_type": "markdown",
      "metadata": {
        "id": "iuNbMOGKvvPY"
      },
      "source": [
        "**Cluster Profiles:____________**  \n",
        "* Cluster 0 is defined by low average credit limits and low credit card counts with a tendencey to contact the bank by phone.\n",
        "* Cluster 1 Shows a high average credit limit, high count of credit cards and a tendency to use online bank services.\n",
        "* Cluster 2 reflects average credit limits and average number of credit cards and a tendency to contact the bank in person.\n",
        "\n",
        "**Comparing Clusters:___________________**\n",
        "The clustering pattern generated with the application of K-Medioids is very similar to the pattern observed in the output derived through the use of K-Means and Gaussian Mixture except for Clusters 1 and 2 are flipped."
      ]
    }
  ]
}